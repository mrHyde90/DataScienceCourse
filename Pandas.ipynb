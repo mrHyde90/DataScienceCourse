{
    "nbformat_minor": 1, 
    "cells": [
        {
            "source": "# Bienvenidos al curso en ciencia de datos!", 
            "cell_type": "markdown", 
            "metadata": {}
        }, 
        {
            "execution_count": 1, 
            "cell_type": "code", 
            "metadata": {}, 
            "outputs": [], 
            "source": "#Importando las librerias\nimport pandas as pd\nimport numpy as np"
        }, 
        {
            "source": "## Introducci\u00f3n a pandas", 
            "cell_type": "markdown", 
            "metadata": {}
        }, 
        {
            "source": "### Series", 
            "cell_type": "markdown", 
            "metadata": {}
        }, 
        {
            "source": "1. Las series son secuencias de valores de una dimencion \n2. Son bastante parecidas a los arreglos \n3. La diferencia es que cuentan con un index", 
            "cell_type": "markdown", 
            "metadata": {}
        }, 
        {
            "source": "#### Creando series", 
            "cell_type": "markdown", 
            "metadata": {}
        }, 
        {
            "execution_count": 12, 
            "cell_type": "code", 
            "metadata": {}, 
            "outputs": [
                {
                    "execution_count": 12, 
                    "metadata": {}, 
                    "data": {
                        "text/plain": "0    1\n1    2\n2    3\n3    4\n4    5\ndtype: int64"
                    }, 
                    "output_type": "execute_result"
                }
            ], 
            "source": "#Series como arreglos\nserie = pd.Series([1, 2, 3, 4, 5])\nserie"
        }, 
        {
            "execution_count": 4, 
            "cell_type": "code", 
            "metadata": {}, 
            "outputs": [
                {
                    "execution_count": 4, 
                    "metadata": {}, 
                    "data": {
                        "text/plain": "Caballo    5\nGallina    4\nGato       3\nPerro      2\ndtype: int64"
                    }, 
                    "output_type": "execute_result"
                }
            ], 
            "source": "#Series como diccionarios\nserieDic = pd.Series({\"Perro\": 2, \"Gato\": 3, \"Gallina\": 4, \"Caballo\": 5})\nserieDic"
        }, 
        {
            "execution_count": 5, 
            "cell_type": "code", 
            "metadata": {}, 
            "outputs": [
                {
                    "execution_count": 5, 
                    "metadata": {}, 
                    "data": {
                        "text/plain": "AA    A\nBB    B\nCC    C\nDD    D\ndtype: object"
                    }, 
                    "output_type": "execute_result"
                }
            ], 
            "source": "#Serie de objetos\nserieObj = pd.Series([\"A\", \"B\", \"C\", \"D\"], index=[\"AA\", \"BB\", \"CC\", \"DD\"])\nserieObj"
        }, 
        {
            "source": "#### Seleccion,  operaciones matematicas, filtracion y algunos metodos", 
            "cell_type": "markdown", 
            "metadata": {}
        }, 
        {
            "source": "##### Seleccion", 
            "cell_type": "markdown", 
            "metadata": {}
        }, 
        {
            "execution_count": 6, 
            "cell_type": "code", 
            "metadata": {}, 
            "outputs": [
                {
                    "execution_count": 6, 
                    "metadata": {}, 
                    "data": {
                        "text/plain": "1    2\n2    3\n3    4\ndtype: int64"
                    }, 
                    "output_type": "execute_result"
                }
            ], 
            "source": "#Seleccion mediante slicing, del index 1 hasta el 3, no se toma el cuenta el 4 o el ultimo valor, a esto se le llama exclusivo\nserie[1:4]"
        }, 
        {
            "execution_count": 9, 
            "cell_type": "code", 
            "metadata": {}, 
            "outputs": [
                {
                    "execution_count": 9, 
                    "metadata": {}, 
                    "data": {
                        "text/plain": "AA    A\nBB    B\ndtype: object"
                    }, 
                    "output_type": "execute_result"
                }
            ], 
            "source": "#Seleccion de multiples index, si se van a elegir multiples index es necesario usar doble corchete\nserieObj[[\"AA\", \"BB\"]]"
        }, 
        {
            "execution_count": 13, 
            "cell_type": "code", 
            "metadata": {}, 
            "outputs": [
                {
                    "output_type": "stream", 
                    "name": "stdout", 
                    "text": "0    1\n1    2\n2    3\n3    4\n4    5\ndtype: int64\n"
                }, 
                {
                    "execution_count": 13, 
                    "metadata": {}, 
                    "data": {
                        "text/plain": "0    23\n1     2\n2     3\n3     4\n4     5\ndtype: int64"
                    }, 
                    "output_type": "execute_result"
                }
            ], 
            "source": "#Cambio de valor, unicamente especificar el index de valor que se quiere cambiar\nprint(serie)\nserie[0] = 23\nserie"
        }, 
        {
            "source": "##### Operaciones matematicas", 
            "cell_type": "markdown", 
            "metadata": {}
        }, 
        {
            "source": "operaciones simples", 
            "cell_type": "markdown", 
            "metadata": {}
        }, 
        {
            "source": "\n| operacion      | signo          |\n| ------------- |-------------:|\n| suma     | + |\n| resta      | - |\n| multiplicacion | *|\n| Division | /    |", 
            "cell_type": "markdown", 
            "metadata": {}
        }, 
        {
            "execution_count": 14, 
            "cell_type": "code", 
            "metadata": {}, 
            "outputs": [
                {
                    "execution_count": 14, 
                    "metadata": {}, 
                    "data": {
                        "text/plain": "0    46\n1     4\n2     6\n3     8\n4    10\ndtype: int64"
                    }, 
                    "output_type": "execute_result"
                }
            ], 
            "source": "serie * 2"
        }, 
        {
            "source": "**operaciones mas avanzadas**", 
            "cell_type": "markdown", 
            "metadata": {}
        }, 
        {
            "execution_count": 15, 
            "cell_type": "code", 
            "metadata": {}, 
            "outputs": [
                {
                    "execution_count": 15, 
                    "metadata": {}, 
                    "data": {
                        "text/plain": "0    9.744803e+09\n1    7.389056e+00\n2    2.008554e+01\n3    5.459815e+01\n4    1.484132e+02\ndtype: float64"
                    }, 
                    "output_type": "execute_result"
                }
            ], 
            "source": "np.exp(serie)"
        }, 
        {
            "execution_count": 16, 
            "cell_type": "code", 
            "metadata": {}, 
            "outputs": [
                {
                    "execution_count": 16, 
                    "metadata": {}, 
                    "data": {
                        "text/plain": "0   -0.846220\n1    0.909297\n2    0.141120\n3   -0.756802\n4   -0.958924\ndtype: float64"
                    }, 
                    "output_type": "execute_result"
                }
            ], 
            "source": "np.sin(serie)"
        }, 
        {
            "source": "##### Algunos metodos", 
            "cell_type": "markdown", 
            "metadata": {}
        }, 
        {
            "execution_count": 17, 
            "cell_type": "code", 
            "metadata": {}, 
            "outputs": [
                {
                    "execution_count": 17, 
                    "metadata": {}, 
                    "data": {
                        "text/plain": "RangeIndex(start=0, stop=5, step=1)"
                    }, 
                    "output_type": "execute_result"
                }
            ], 
            "source": "#Desplegando el index\nserie.index"
        }, 
        {
            "execution_count": 18, 
            "cell_type": "code", 
            "metadata": {}, 
            "outputs": [
                {
                    "execution_count": 18, 
                    "metadata": {}, 
                    "data": {
                        "text/plain": "Index(['AA', 'BB', 'CC', 'DD'], dtype='object')"
                    }, 
                    "output_type": "execute_result"
                }
            ], 
            "source": "serieObj.index"
        }, 
        {
            "execution_count": 19, 
            "cell_type": "code", 
            "metadata": {}, 
            "outputs": [
                {
                    "execution_count": 19, 
                    "metadata": {}, 
                    "data": {
                        "text/plain": "array([23,  2,  3,  4,  5])"
                    }, 
                    "output_type": "execute_result"
                }
            ], 
            "source": "#Despliega los valores de la serie como un numpy array\nserie.values"
        }, 
        {
            "source": "**Nota que serie.index y serieObj.index tienen diferentes resultados, aunque los 2 sean index uno es del tipo RangeIndex y el otro solo Index**", 
            "cell_type": "markdown", 
            "metadata": {}
        }, 
        {
            "execution_count": 20, 
            "cell_type": "code", 
            "metadata": {}, 
            "outputs": [
                {
                    "execution_count": 20, 
                    "metadata": {}, 
                    "data": {
                        "text/plain": "True"
                    }, 
                    "output_type": "execute_result"
                }
            ], 
            "source": "#Checa si se encuentra el 1 dentro de la serie\n1 in serie"
        }, 
        {
            "source": "**Filtrando**", 
            "cell_type": "markdown", 
            "metadata": {}
        }, 
        {
            "execution_count": 22, 
            "cell_type": "code", 
            "metadata": {}, 
            "outputs": [
                {
                    "execution_count": 22, 
                    "metadata": {}, 
                    "data": {
                        "text/plain": "0     True\n1    False\n2    False\n3     True\n4     True\ndtype: bool"
                    }, 
                    "output_type": "execute_result"
                }
            ], 
            "source": "#Al momento de comparar una serie se crea una serie de booleanos, esta la puedes usar para filtrar datos\nserie > 3"
        }, 
        {
            "execution_count": 23, 
            "cell_type": "code", 
            "metadata": {}, 
            "outputs": [
                {
                    "execution_count": 23, 
                    "metadata": {}, 
                    "data": {
                        "text/plain": "0    23\n3     4\n4     5\ndtype: int64"
                    }, 
                    "output_type": "execute_result"
                }
            ], 
            "source": "#Hemos usado la serie de arriba para filtrar, los unicos index que se toman son los que contienen el true en la serie de booleanos\nserie[serie > 3]"
        }, 
        {
            "source": "### DataFrame", 
            "cell_type": "markdown", 
            "metadata": {}
        }, 
        {
            "source": "1. Compuesto de 2 dimenciones\n2. sus filas son sus indices y sus columnas sus variables", 
            "cell_type": "markdown", 
            "metadata": {}
        }, 
        {
            "source": "#### Creando un DataFrame", 
            "cell_type": "markdown", 
            "metadata": {}
        }, 
        {
            "execution_count": 24, 
            "cell_type": "code", 
            "metadata": {}, 
            "outputs": [
                {
                    "execution_count": 24, 
                    "metadata": {}, 
                    "data": {
                        "text/html": "<div>\n<style scoped>\n    .dataframe tbody tr th:only-of-type {\n        vertical-align: middle;\n    }\n\n    .dataframe tbody tr th {\n        vertical-align: top;\n    }\n\n    .dataframe thead th {\n        text-align: right;\n    }\n</style>\n<table border=\"1\" class=\"dataframe\">\n  <thead>\n    <tr style=\"text-align: right;\">\n      <th></th>\n      <th>Animales</th>\n      <th>Letras</th>\n    </tr>\n  </thead>\n  <tbody>\n    <tr>\n      <th>AA</th>\n      <td>NaN</td>\n      <td>A</td>\n    </tr>\n    <tr>\n      <th>BB</th>\n      <td>NaN</td>\n      <td>B</td>\n    </tr>\n    <tr>\n      <th>CC</th>\n      <td>NaN</td>\n      <td>C</td>\n    </tr>\n    <tr>\n      <th>Caballo</th>\n      <td>5.0</td>\n      <td>NaN</td>\n    </tr>\n    <tr>\n      <th>DD</th>\n      <td>NaN</td>\n      <td>D</td>\n    </tr>\n    <tr>\n      <th>Gallina</th>\n      <td>4.0</td>\n      <td>NaN</td>\n    </tr>\n    <tr>\n      <th>Gato</th>\n      <td>3.0</td>\n      <td>NaN</td>\n    </tr>\n    <tr>\n      <th>Perro</th>\n      <td>2.0</td>\n      <td>NaN</td>\n    </tr>\n  </tbody>\n</table>\n</div>", 
                        "text/plain": "         Animales Letras\nAA            NaN      A\nBB            NaN      B\nCC            NaN      C\nCaballo       5.0    NaN\nDD            NaN      D\nGallina       4.0    NaN\nGato          3.0    NaN\nPerro         2.0    NaN"
                    }, 
                    "output_type": "execute_result"
                }
            ], 
            "source": "#Creando un dataframe con Series\ndf = pd.DataFrame({\"Animales\": serieDic, \"Letras\": serieObj})\ndf"
        }, 
        {
            "execution_count": 25, 
            "cell_type": "code", 
            "metadata": {}, 
            "outputs": [
                {
                    "execution_count": 25, 
                    "metadata": {}, 
                    "data": {
                        "text/html": "<div>\n<style scoped>\n    .dataframe tbody tr th:only-of-type {\n        vertical-align: middle;\n    }\n\n    .dataframe tbody tr th {\n        vertical-align: top;\n    }\n\n    .dataframe thead th {\n        text-align: right;\n    }\n</style>\n<table border=\"1\" class=\"dataframe\">\n  <thead>\n    <tr style=\"text-align: right;\">\n      <th></th>\n      <th>Animales</th>\n      <th>Cantidad</th>\n    </tr>\n  </thead>\n  <tbody>\n    <tr>\n      <th>0</th>\n      <td>Gallina</td>\n      <td>1</td>\n    </tr>\n    <tr>\n      <th>1</th>\n      <td>Perro</td>\n      <td>2</td>\n    </tr>\n    <tr>\n      <th>2</th>\n      <td>Tortuga</td>\n      <td>3</td>\n    </tr>\n    <tr>\n      <th>3</th>\n      <td>Caballo</td>\n      <td>4</td>\n    </tr>\n    <tr>\n      <th>4</th>\n      <td>Gato</td>\n      <td>5</td>\n    </tr>\n  </tbody>\n</table>\n</div>", 
                        "text/plain": "  Animales  Cantidad\n0  Gallina         1\n1    Perro         2\n2  Tortuga         3\n3  Caballo         4\n4     Gato         5"
                    }, 
                    "output_type": "execute_result"
                }
            ], 
            "source": "#Creando un dataframe con diccionarios\ndfDic = pd.DataFrame({\"Animales\": [\"Gallina\", \"Perro\", \"Tortuga\", \"Caballo\", \"Gato\"], \"Cantidad\": [1, 2, 3, 4, 5]})\ndfDic"
        }, 
        {
            "source": "#### Seleccion,  operaciones matematicas, filtracion y algunos metodos", 
            "cell_type": "markdown", 
            "metadata": {}
        }, 
        {
            "execution_count": null, 
            "cell_type": "code", 
            "metadata": {}, 
            "outputs": [], 
            "source": ""
        }
    ], 
    "metadata": {
        "kernelspec": {
            "display_name": "Python 3.5", 
            "name": "python3", 
            "language": "python"
        }, 
        "language_info": {
            "mimetype": "text/x-python", 
            "nbconvert_exporter": "python", 
            "version": "3.5.5", 
            "name": "python", 
            "file_extension": ".py", 
            "pygments_lexer": "ipython3", 
            "codemirror_mode": {
                "version": 3, 
                "name": "ipython"
            }
        }
    }, 
    "nbformat": 4
}