{
    "nbformat_minor": 1, 
    "cells": [
        {
            "source": "# Bienvenidos al curso en ciencia de datos!", 
            "cell_type": "markdown", 
            "metadata": {}
        }, 
        {
            "execution_count": 1, 
            "cell_type": "code", 
            "metadata": {}, 
            "outputs": [], 
            "source": "#Importando las librerias\nimport pandas as pd\nimport numpy as np"
        }, 
        {
            "source": "## Introducci\u00f3n a pandas", 
            "cell_type": "markdown", 
            "metadata": {}
        }, 
        {
            "source": "### Series", 
            "cell_type": "markdown", 
            "metadata": {}
        }, 
        {
            "source": "1. Las series son secuencias de valores de una dimencion \n2. Son bastante parecidas a los arreglos \n3. La diferencia es que cuentan con un index", 
            "cell_type": "markdown", 
            "metadata": {}
        }, 
        {
            "source": "#### Creando series", 
            "cell_type": "markdown", 
            "metadata": {}
        }, 
        {
            "execution_count": 24, 
            "cell_type": "code", 
            "metadata": {}, 
            "outputs": [
                {
                    "execution_count": 24, 
                    "metadata": {}, 
                    "data": {
                        "text/plain": "0    1\n1    2\n2    3\n3    4\n4    5\ndtype: int64"
                    }, 
                    "output_type": "execute_result"
                }
            ], 
            "source": "#Series como arreglos\nserie = pd.Series([1, 2, 3, 4, 5])\nserie"
        }, 
        {
            "execution_count": 4, 
            "cell_type": "code", 
            "metadata": {}, 
            "outputs": [
                {
                    "execution_count": 4, 
                    "metadata": {}, 
                    "data": {
                        "text/plain": "Caballo    5\nGallina    4\nGato       3\nPerro      2\ndtype: int64"
                    }, 
                    "output_type": "execute_result"
                }
            ], 
            "source": "#Series como diccionarios\nserieDic = pd.Series({\"Perro\": 2, \"Gato\": 3, \"Gallina\": 4, \"Caballo\": 5})\nserieDic"
        }, 
        {
            "execution_count": 5, 
            "cell_type": "code", 
            "metadata": {}, 
            "outputs": [
                {
                    "execution_count": 5, 
                    "metadata": {}, 
                    "data": {
                        "text/plain": "AA    A\nBB    B\nCC    C\nDD    D\ndtype: object"
                    }, 
                    "output_type": "execute_result"
                }
            ], 
            "source": "#Serie de objetos\nserieObj = pd.Series([\"A\", \"B\", \"C\", \"D\"], index=[\"AA\", \"BB\", \"CC\", \"DD\"])\nserieObj"
        }, 
        {
            "execution_count": 22, 
            "cell_type": "code", 
            "metadata": {}, 
            "outputs": [
                {
                    "execution_count": 22, 
                    "metadata": {}, 
                    "data": {
                        "text/plain": "0     5\n2     6\n4    12\n6    45\n8     7\ndtype: int64"
                    }, 
                    "output_type": "execute_result"
                }
            ], 
            "source": "#indices pares\nserieNum = pd.Series([5, 6, 12, 45, 7], index=[0, 2, 4, 6, 8])\nserieNum"
        }, 
        {
            "source": "#### Seleccion,  operaciones matematicas, filtracion y algunos metodos", 
            "cell_type": "markdown", 
            "metadata": {}
        }, 
        {
            "source": "##### Seleccion", 
            "cell_type": "markdown", 
            "metadata": {}
        }, 
        {
            "execution_count": 6, 
            "cell_type": "code", 
            "metadata": {}, 
            "outputs": [
                {
                    "execution_count": 6, 
                    "metadata": {}, 
                    "data": {
                        "text/plain": "1    2\n2    3\n3    4\ndtype: int64"
                    }, 
                    "output_type": "execute_result"
                }
            ], 
            "source": "#Seleccion mediante slicing, del index 1 hasta el 3, no se toma el cuenta el 4 o el ultimo valor, a esto se le llama exclusivo\nserie[1:4]"
        }, 
        {
            "execution_count": 9, 
            "cell_type": "code", 
            "metadata": {}, 
            "outputs": [
                {
                    "execution_count": 9, 
                    "metadata": {}, 
                    "data": {
                        "text/plain": "AA    A\nBB    B\ndtype: object"
                    }, 
                    "output_type": "execute_result"
                }
            ], 
            "source": "#Seleccion de multiples index, si se van a elegir multiples index es necesario usar doble corchete\nserieObj[[\"AA\", \"BB\"]]"
        }, 
        {
            "execution_count": 13, 
            "cell_type": "code", 
            "metadata": {}, 
            "outputs": [
                {
                    "output_type": "stream", 
                    "name": "stdout", 
                    "text": "0    1\n1    2\n2    3\n3    4\n4    5\ndtype: int64\n"
                }, 
                {
                    "execution_count": 13, 
                    "metadata": {}, 
                    "data": {
                        "text/plain": "0    23\n1     2\n2     3\n3     4\n4     5\ndtype: int64"
                    }, 
                    "output_type": "execute_result"
                }
            ], 
            "source": "#Cambio de valor, unicamente especificar el index de valor que se quiere cambiar\nprint(serie)\nserie[0] = 23\nserie"
        }, 
        {
            "source": "##### Operaciones matematicas", 
            "cell_type": "markdown", 
            "metadata": {}
        }, 
        {
            "source": "operaciones simples", 
            "cell_type": "markdown", 
            "metadata": {}
        }, 
        {
            "source": "\n| operacion      | signo          |\n| ------------- |-------------:|\n| suma     | + |\n| resta      | - |\n| multiplicacion | *|\n| Division | /    |", 
            "cell_type": "markdown", 
            "metadata": {}
        }, 
        {
            "execution_count": 14, 
            "cell_type": "code", 
            "metadata": {}, 
            "outputs": [
                {
                    "execution_count": 14, 
                    "metadata": {}, 
                    "data": {
                        "text/plain": "0    46\n1     4\n2     6\n3     8\n4    10\ndtype: int64"
                    }, 
                    "output_type": "execute_result"
                }
            ], 
            "source": "serie * 2"
        }, 
        {
            "source": "**Suma de 2 series: Index Aligment**", 
            "cell_type": "markdown", 
            "metadata": {}
        }, 
        {
            "execution_count": 25, 
            "cell_type": "code", 
            "metadata": {}, 
            "outputs": [
                {
                    "execution_count": 25, 
                    "metadata": {}, 
                    "data": {
                        "text/plain": "0     6.0\n1     NaN\n2     9.0\n3     NaN\n4    17.0\n6     NaN\n8     NaN\ndtype: float64"
                    }, 
                    "output_type": "execute_result"
                }
            ], 
            "source": "#Se usan los indices para poder suma\nserie + serieNum"
        }, 
        {
            "execution_count": 26, 
            "cell_type": "code", 
            "metadata": {}, 
            "outputs": [
                {
                    "execution_count": 26, 
                    "metadata": {}, 
                    "data": {
                        "text/plain": "0     6.0\n1     2.0\n2     9.0\n3     4.0\n4    17.0\n6    45.0\n8     7.0\ndtype: float64"
                    }, 
                    "output_type": "execute_result"
                }
            ], 
            "source": "serie.add(serieNum, fill_value=0)"
        }, 
        {
            "source": "**operaciones mas avanzadas**", 
            "cell_type": "markdown", 
            "metadata": {}
        }, 
        {
            "execution_count": 15, 
            "cell_type": "code", 
            "metadata": {}, 
            "outputs": [
                {
                    "execution_count": 15, 
                    "metadata": {}, 
                    "data": {
                        "text/plain": "0    9.744803e+09\n1    7.389056e+00\n2    2.008554e+01\n3    5.459815e+01\n4    1.484132e+02\ndtype: float64"
                    }, 
                    "output_type": "execute_result"
                }
            ], 
            "source": "np.exp(serie)"
        }, 
        {
            "execution_count": 16, 
            "cell_type": "code", 
            "metadata": {}, 
            "outputs": [
                {
                    "execution_count": 16, 
                    "metadata": {}, 
                    "data": {
                        "text/plain": "0   -0.846220\n1    0.909297\n2    0.141120\n3   -0.756802\n4   -0.958924\ndtype: float64"
                    }, 
                    "output_type": "execute_result"
                }
            ], 
            "source": "np.sin(serie)"
        }, 
        {
            "source": "##### Algunos metodos", 
            "cell_type": "markdown", 
            "metadata": {}
        }, 
        {
            "execution_count": 17, 
            "cell_type": "code", 
            "metadata": {}, 
            "outputs": [
                {
                    "execution_count": 17, 
                    "metadata": {}, 
                    "data": {
                        "text/plain": "RangeIndex(start=0, stop=5, step=1)"
                    }, 
                    "output_type": "execute_result"
                }
            ], 
            "source": "#Desplegando el index\nserie.index"
        }, 
        {
            "execution_count": 18, 
            "cell_type": "code", 
            "metadata": {}, 
            "outputs": [
                {
                    "execution_count": 18, 
                    "metadata": {}, 
                    "data": {
                        "text/plain": "Index(['AA', 'BB', 'CC', 'DD'], dtype='object')"
                    }, 
                    "output_type": "execute_result"
                }
            ], 
            "source": "serieObj.index"
        }, 
        {
            "execution_count": 19, 
            "cell_type": "code", 
            "metadata": {}, 
            "outputs": [
                {
                    "execution_count": 19, 
                    "metadata": {}, 
                    "data": {
                        "text/plain": "array([23,  2,  3,  4,  5])"
                    }, 
                    "output_type": "execute_result"
                }
            ], 
            "source": "#Despliega los valores de la serie como un numpy array\nserie.values"
        }, 
        {
            "source": "**Nota que serie.index y serieObj.index tienen diferentes resultados, aunque los 2 sean index uno es del tipo RangeIndex y el otro solo Index**", 
            "cell_type": "markdown", 
            "metadata": {}
        }, 
        {
            "execution_count": 20, 
            "cell_type": "code", 
            "metadata": {}, 
            "outputs": [
                {
                    "execution_count": 20, 
                    "metadata": {}, 
                    "data": {
                        "text/plain": "True"
                    }, 
                    "output_type": "execute_result"
                }
            ], 
            "source": "#Checa si se encuentra el 1 dentro de la serie\n1 in serie"
        }, 
        {
            "source": "**Filtrando**", 
            "cell_type": "markdown", 
            "metadata": {}
        }, 
        {
            "execution_count": 22, 
            "cell_type": "code", 
            "metadata": {}, 
            "outputs": [
                {
                    "execution_count": 22, 
                    "metadata": {}, 
                    "data": {
                        "text/plain": "0     True\n1    False\n2    False\n3     True\n4     True\ndtype: bool"
                    }, 
                    "output_type": "execute_result"
                }
            ], 
            "source": "#Al momento de comparar una serie se crea una serie de booleanos, esta la puedes usar para filtrar datos\nserie > 3"
        }, 
        {
            "execution_count": 23, 
            "cell_type": "code", 
            "metadata": {}, 
            "outputs": [
                {
                    "execution_count": 23, 
                    "metadata": {}, 
                    "data": {
                        "text/plain": "0    23\n3     4\n4     5\ndtype: int64"
                    }, 
                    "output_type": "execute_result"
                }
            ], 
            "source": "#Hemos usado la serie de arriba para filtrar, los unicos index que se toman son los que contienen el true en la serie de booleanos\nserie[serie > 3]"
        }, 
        {
            "source": "### DataFrame", 
            "cell_type": "markdown", 
            "metadata": {}
        }, 
        {
            "source": "1. Compuesto de 2 dimenciones\n2. sus filas son sus indices y sus columnas sus variables", 
            "cell_type": "markdown", 
            "metadata": {}
        }, 
        {
            "source": "#### Creando un DataFrame", 
            "cell_type": "markdown", 
            "metadata": {}
        }, 
        {
            "execution_count": 24, 
            "cell_type": "code", 
            "metadata": {}, 
            "outputs": [
                {
                    "execution_count": 24, 
                    "metadata": {}, 
                    "data": {
                        "text/html": "<div>\n<style scoped>\n    .dataframe tbody tr th:only-of-type {\n        vertical-align: middle;\n    }\n\n    .dataframe tbody tr th {\n        vertical-align: top;\n    }\n\n    .dataframe thead th {\n        text-align: right;\n    }\n</style>\n<table border=\"1\" class=\"dataframe\">\n  <thead>\n    <tr style=\"text-align: right;\">\n      <th></th>\n      <th>Animales</th>\n      <th>Letras</th>\n    </tr>\n  </thead>\n  <tbody>\n    <tr>\n      <th>AA</th>\n      <td>NaN</td>\n      <td>A</td>\n    </tr>\n    <tr>\n      <th>BB</th>\n      <td>NaN</td>\n      <td>B</td>\n    </tr>\n    <tr>\n      <th>CC</th>\n      <td>NaN</td>\n      <td>C</td>\n    </tr>\n    <tr>\n      <th>Caballo</th>\n      <td>5.0</td>\n      <td>NaN</td>\n    </tr>\n    <tr>\n      <th>DD</th>\n      <td>NaN</td>\n      <td>D</td>\n    </tr>\n    <tr>\n      <th>Gallina</th>\n      <td>4.0</td>\n      <td>NaN</td>\n    </tr>\n    <tr>\n      <th>Gato</th>\n      <td>3.0</td>\n      <td>NaN</td>\n    </tr>\n    <tr>\n      <th>Perro</th>\n      <td>2.0</td>\n      <td>NaN</td>\n    </tr>\n  </tbody>\n</table>\n</div>", 
                        "text/plain": "         Animales Letras\nAA            NaN      A\nBB            NaN      B\nCC            NaN      C\nCaballo       5.0    NaN\nDD            NaN      D\nGallina       4.0    NaN\nGato          3.0    NaN\nPerro         2.0    NaN"
                    }, 
                    "output_type": "execute_result"
                }
            ], 
            "source": "#Creando un dataframe con Series\ndf = pd.DataFrame({\"Animales\": serieDic, \"Letras\": serieObj})\ndf"
        }, 
        {
            "execution_count": 5, 
            "cell_type": "code", 
            "metadata": {}, 
            "outputs": [
                {
                    "execution_count": 5, 
                    "metadata": {}, 
                    "data": {
                        "text/html": "<div>\n<style scoped>\n    .dataframe tbody tr th:only-of-type {\n        vertical-align: middle;\n    }\n\n    .dataframe tbody tr th {\n        vertical-align: top;\n    }\n\n    .dataframe thead th {\n        text-align: right;\n    }\n</style>\n<table border=\"1\" class=\"dataframe\">\n  <thead>\n    <tr style=\"text-align: right;\">\n      <th></th>\n      <th>Animales</th>\n      <th>Cantidad</th>\n      <th>Granja</th>\n    </tr>\n  </thead>\n  <tbody>\n    <tr>\n      <th>0</th>\n      <td>Gallina</td>\n      <td>1</td>\n      <td>A</td>\n    </tr>\n    <tr>\n      <th>1</th>\n      <td>Perro</td>\n      <td>2</td>\n      <td>A</td>\n    </tr>\n    <tr>\n      <th>2</th>\n      <td>Tortuga</td>\n      <td>3</td>\n      <td>B</td>\n    </tr>\n    <tr>\n      <th>3</th>\n      <td>Caballo</td>\n      <td>4</td>\n      <td>C</td>\n    </tr>\n    <tr>\n      <th>4</th>\n      <td>Gato</td>\n      <td>5</td>\n      <td>B</td>\n    </tr>\n  </tbody>\n</table>\n</div>", 
                        "text/plain": "  Animales  Cantidad Granja\n0  Gallina         1      A\n1    Perro         2      A\n2  Tortuga         3      B\n3  Caballo         4      C\n4     Gato         5      B"
                    }, 
                    "output_type": "execute_result"
                }
            ], 
            "source": "#Creando un dataframe con diccionarios\ndfDic = pd.DataFrame({\"Animales\": [\"Gallina\", \"Perro\", \"Tortuga\", \"Caballo\", \"Gato\"], \"Cantidad\": [1, 2, 3, 4, 5], \"Granja\": [\"A\", \"A\", \"B\", \"C\", \"B\"]})\ndfDic"
        }, 
        {
            "source": "#### Seleccion,  operaciones matematicas, filtracion y algunos metodos", 
            "cell_type": "markdown", 
            "metadata": {}
        }, 
        {
            "source": "##### Seleccion", 
            "cell_type": "markdown", 
            "metadata": {}
        }, 
        {
            "source": "Para seleccionar en un dataframe se especifica el nombre de la columna que se quiere seleccionar", 
            "cell_type": "markdown", 
            "metadata": {}
        }, 
        {
            "execution_count": 9, 
            "cell_type": "code", 
            "metadata": {}, 
            "outputs": [
                {
                    "execution_count": 9, 
                    "metadata": {}, 
                    "data": {
                        "text/plain": "0    Gallina\n1      Perro\n2    Tortuga\n3    Caballo\n4       Gato\nName: Animales, dtype: object"
                    }, 
                    "output_type": "execute_result"
                }
            ], 
            "source": "#Seleccion con el punto\n#Crea una serie\ndfDic.Animales"
        }, 
        {
            "execution_count": 4, 
            "cell_type": "code", 
            "metadata": {}, 
            "outputs": [
                {
                    "execution_count": 4, 
                    "metadata": {}, 
                    "data": {
                        "text/plain": "0    Gallina\n1      Perro\n2    Tortuga\n3    Caballo\n4       Gato\nName: Animales, dtype: object"
                    }, 
                    "output_type": "execute_result"
                }
            ], 
            "source": "#Seleccion de una columna mediante brackets\n#Crea una serie\ndfDic[\"Animales\"]"
        }, 
        {
            "execution_count": 5, 
            "cell_type": "code", 
            "metadata": {}, 
            "outputs": [
                {
                    "execution_count": 5, 
                    "metadata": {}, 
                    "data": {
                        "text/html": "<div>\n<style scoped>\n    .dataframe tbody tr th:only-of-type {\n        vertical-align: middle;\n    }\n\n    .dataframe tbody tr th {\n        vertical-align: top;\n    }\n\n    .dataframe thead th {\n        text-align: right;\n    }\n</style>\n<table border=\"1\" class=\"dataframe\">\n  <thead>\n    <tr style=\"text-align: right;\">\n      <th></th>\n      <th>Animales</th>\n      <th>Cantidad</th>\n    </tr>\n  </thead>\n  <tbody>\n    <tr>\n      <th>0</th>\n      <td>Gallina</td>\n      <td>1</td>\n    </tr>\n    <tr>\n      <th>1</th>\n      <td>Perro</td>\n      <td>2</td>\n    </tr>\n    <tr>\n      <th>2</th>\n      <td>Tortuga</td>\n      <td>3</td>\n    </tr>\n    <tr>\n      <th>3</th>\n      <td>Caballo</td>\n      <td>4</td>\n    </tr>\n    <tr>\n      <th>4</th>\n      <td>Gato</td>\n      <td>5</td>\n    </tr>\n  </tbody>\n</table>\n</div>", 
                        "text/plain": "  Animales  Cantidad\n0  Gallina         1\n1    Perro         2\n2  Tortuga         3\n3  Caballo         4\n4     Gato         5"
                    }, 
                    "output_type": "execute_result"
                }
            ], 
            "source": "#Seleccion de multiples columnas\n#Para seleccionar multiples columnas recuerda usar double brackets\ndfDic[[\"Animales\", \"Cantidad\"]]"
        }, 
        {
            "source": "**Seleccion con .loc e .iloc**", 
            "cell_type": "markdown", 
            "metadata": {}
        }, 
        {
            "source": ".loc\n1. se usan los nombres del indice y las columnas\n2. el slicing es inclusivo, incluye la ultima columna o indice", 
            "cell_type": "markdown", 
            "metadata": {}
        }, 
        {
            "execution_count": 7, 
            "cell_type": "code", 
            "metadata": {}, 
            "outputs": [
                {
                    "execution_count": 7, 
                    "metadata": {}, 
                    "data": {
                        "text/html": "<div>\n<style scoped>\n    .dataframe tbody tr th:only-of-type {\n        vertical-align: middle;\n    }\n\n    .dataframe tbody tr th {\n        vertical-align: top;\n    }\n\n    .dataframe thead th {\n        text-align: right;\n    }\n</style>\n<table border=\"1\" class=\"dataframe\">\n  <thead>\n    <tr style=\"text-align: right;\">\n      <th></th>\n      <th>Animales</th>\n      <th>Cantidad</th>\n    </tr>\n  </thead>\n  <tbody>\n    <tr>\n      <th>1</th>\n      <td>Perro</td>\n      <td>2</td>\n    </tr>\n    <tr>\n      <th>2</th>\n      <td>Tortuga</td>\n      <td>3</td>\n    </tr>\n    <tr>\n      <th>3</th>\n      <td>Caballo</td>\n      <td>4</td>\n    </tr>\n  </tbody>\n</table>\n</div>", 
                        "text/plain": "  Animales  Cantidad\n1    Perro         2\n2  Tortuga         3\n3  Caballo         4"
                    }, 
                    "output_type": "execute_result"
                }
            ], 
            "source": "dfDic.loc[1:3, [\"Animales\", \"Cantidad\"]]"
        }, 
        {
            "source": ".iloc\n1. Se usan las posiciones de las columnas y del indice\n2. el slicing es exclusivo, excluye el ultimo numero", 
            "cell_type": "markdown", 
            "metadata": {}
        }, 
        {
            "execution_count": 8, 
            "cell_type": "code", 
            "metadata": {}, 
            "outputs": [
                {
                    "execution_count": 8, 
                    "metadata": {}, 
                    "data": {
                        "text/html": "<div>\n<style scoped>\n    .dataframe tbody tr th:only-of-type {\n        vertical-align: middle;\n    }\n\n    .dataframe tbody tr th {\n        vertical-align: top;\n    }\n\n    .dataframe thead th {\n        text-align: right;\n    }\n</style>\n<table border=\"1\" class=\"dataframe\">\n  <thead>\n    <tr style=\"text-align: right;\">\n      <th></th>\n      <th>Animales</th>\n      <th>Cantidad</th>\n    </tr>\n  </thead>\n  <tbody>\n    <tr>\n      <th>1</th>\n      <td>Perro</td>\n      <td>2</td>\n    </tr>\n    <tr>\n      <th>2</th>\n      <td>Tortuga</td>\n      <td>3</td>\n    </tr>\n  </tbody>\n</table>\n</div>", 
                        "text/plain": "  Animales  Cantidad\n1    Perro         2\n2  Tortuga         3"
                    }, 
                    "output_type": "execute_result"
                }
            ], 
            "source": "#Mira que va del 1 al 3 sin incluir al 3, al igual en las columnas\ndfDic.iloc[1:3, 0:2 ]"
        }, 
        {
            "source": "**Creando una nueva columna**", 
            "cell_type": "markdown", 
            "metadata": {}
        }, 
        {
            "execution_count": 6, 
            "cell_type": "code", 
            "metadata": {}, 
            "outputs": [
                {
                    "execution_count": 6, 
                    "metadata": {}, 
                    "data": {
                        "text/html": "<div>\n<style scoped>\n    .dataframe tbody tr th:only-of-type {\n        vertical-align: middle;\n    }\n\n    .dataframe tbody tr th {\n        vertical-align: top;\n    }\n\n    .dataframe thead th {\n        text-align: right;\n    }\n</style>\n<table border=\"1\" class=\"dataframe\">\n  <thead>\n    <tr style=\"text-align: right;\">\n      <th></th>\n      <th>Animales</th>\n      <th>Cantidad</th>\n      <th>Granja</th>\n      <th>Clase</th>\n    </tr>\n  </thead>\n  <tbody>\n    <tr>\n      <th>0</th>\n      <td>Gallina</td>\n      <td>1</td>\n      <td>A</td>\n      <td>Aves</td>\n    </tr>\n    <tr>\n      <th>1</th>\n      <td>Perro</td>\n      <td>2</td>\n      <td>A</td>\n      <td>Mamifero</td>\n    </tr>\n    <tr>\n      <th>2</th>\n      <td>Tortuga</td>\n      <td>3</td>\n      <td>B</td>\n      <td>Reptiles</td>\n    </tr>\n    <tr>\n      <th>3</th>\n      <td>Caballo</td>\n      <td>4</td>\n      <td>C</td>\n      <td>Mamifero</td>\n    </tr>\n    <tr>\n      <th>4</th>\n      <td>Gato</td>\n      <td>5</td>\n      <td>B</td>\n      <td>Mamifero</td>\n    </tr>\n  </tbody>\n</table>\n</div>", 
                        "text/plain": "  Animales  Cantidad Granja     Clase\n0  Gallina         1      A      Aves\n1    Perro         2      A  Mamifero\n2  Tortuga         3      B  Reptiles\n3  Caballo         4      C  Mamifero\n4     Gato         5      B  Mamifero"
                    }, 
                    "output_type": "execute_result"
                }
            ], 
            "source": "dfDic[\"Clase\"] = [\"Aves\", \"Mamifero\", \"Reptiles\", \"Mamifero\", \"Mamifero\"]\ndfDic"
        }, 
        {
            "source": "**Operaciones Matematicas**", 
            "cell_type": "markdown", 
            "metadata": {}
        }, 
        {
            "execution_count": 18, 
            "cell_type": "code", 
            "metadata": {}, 
            "outputs": [
                {
                    "execution_count": 18, 
                    "metadata": {}, 
                    "data": {
                        "text/html": "<div>\n<style scoped>\n    .dataframe tbody tr th:only-of-type {\n        vertical-align: middle;\n    }\n\n    .dataframe tbody tr th {\n        vertical-align: top;\n    }\n\n    .dataframe thead th {\n        text-align: right;\n    }\n</style>\n<table border=\"1\" class=\"dataframe\">\n  <thead>\n    <tr style=\"text-align: right;\">\n      <th></th>\n      <th>A</th>\n      <th>B</th>\n      <th>C</th>\n      <th>D</th>\n    </tr>\n  </thead>\n  <tbody>\n    <tr>\n      <th>0</th>\n      <td>6</td>\n      <td>3</td>\n      <td>7</td>\n      <td>4</td>\n    </tr>\n    <tr>\n      <th>1</th>\n      <td>6</td>\n      <td>9</td>\n      <td>2</td>\n      <td>6</td>\n    </tr>\n    <tr>\n      <th>2</th>\n      <td>7</td>\n      <td>4</td>\n      <td>3</td>\n      <td>7</td>\n    </tr>\n    <tr>\n      <th>3</th>\n      <td>7</td>\n      <td>2</td>\n      <td>5</td>\n      <td>4</td>\n    </tr>\n    <tr>\n      <th>4</th>\n      <td>1</td>\n      <td>7</td>\n      <td>5</td>\n      <td>1</td>\n    </tr>\n  </tbody>\n</table>\n</div>", 
                        "text/plain": "   A  B  C  D\n0  6  3  7  4\n1  6  9  2  6\n2  7  4  3  7\n3  7  2  5  4\n4  1  7  5  1"
                    }, 
                    "output_type": "execute_result"
                }
            ], 
            "source": "dfNum = pd.DataFrame(np.random.RandomState(42).randint(0, 10, (5, 4)),\n                  columns=['A', 'B', 'C', 'D'])\ndfNum"
        }, 
        {
            "execution_count": 19, 
            "cell_type": "code", 
            "metadata": {}, 
            "outputs": [
                {
                    "execution_count": 19, 
                    "metadata": {}, 
                    "data": {
                        "text/html": "<div>\n<style scoped>\n    .dataframe tbody tr th:only-of-type {\n        vertical-align: middle;\n    }\n\n    .dataframe tbody tr th {\n        vertical-align: top;\n    }\n\n    .dataframe thead th {\n        text-align: right;\n    }\n</style>\n<table border=\"1\" class=\"dataframe\">\n  <thead>\n    <tr style=\"text-align: right;\">\n      <th></th>\n      <th>A</th>\n      <th>B</th>\n      <th>C</th>\n      <th>D</th>\n    </tr>\n  </thead>\n  <tbody>\n    <tr>\n      <th>0</th>\n      <td>-0.279415</td>\n      <td>0.141120</td>\n      <td>0.656987</td>\n      <td>-0.756802</td>\n    </tr>\n    <tr>\n      <th>1</th>\n      <td>-0.279415</td>\n      <td>0.412118</td>\n      <td>0.909297</td>\n      <td>-0.279415</td>\n    </tr>\n    <tr>\n      <th>2</th>\n      <td>0.656987</td>\n      <td>-0.756802</td>\n      <td>0.141120</td>\n      <td>0.656987</td>\n    </tr>\n    <tr>\n      <th>3</th>\n      <td>0.656987</td>\n      <td>0.909297</td>\n      <td>-0.958924</td>\n      <td>-0.756802</td>\n    </tr>\n    <tr>\n      <th>4</th>\n      <td>0.841471</td>\n      <td>0.656987</td>\n      <td>-0.958924</td>\n      <td>0.841471</td>\n    </tr>\n  </tbody>\n</table>\n</div>", 
                        "text/plain": "          A         B         C         D\n0 -0.279415  0.141120  0.656987 -0.756802\n1 -0.279415  0.412118  0.909297 -0.279415\n2  0.656987 -0.756802  0.141120  0.656987\n3  0.656987  0.909297 -0.958924 -0.756802\n4  0.841471  0.656987 -0.958924  0.841471"
                    }, 
                    "output_type": "execute_result"
                }
            ], 
            "source": "np.sin(dfNum)"
        }, 
        {
            "source": "**Index aligment in DataFrames**", 
            "cell_type": "markdown", 
            "metadata": {}
        }, 
        {
            "execution_count": 27, 
            "cell_type": "code", 
            "metadata": {}, 
            "outputs": [
                {
                    "execution_count": 27, 
                    "metadata": {}, 
                    "data": {
                        "text/html": "<div>\n<style scoped>\n    .dataframe tbody tr th:only-of-type {\n        vertical-align: middle;\n    }\n\n    .dataframe tbody tr th {\n        vertical-align: top;\n    }\n\n    .dataframe thead th {\n        text-align: right;\n    }\n</style>\n<table border=\"1\" class=\"dataframe\">\n  <thead>\n    <tr style=\"text-align: right;\">\n      <th></th>\n      <th>A</th>\n      <th>B</th>\n      <th>C</th>\n      <th>D</th>\n      <th>E</th>\n    </tr>\n  </thead>\n  <tbody>\n    <tr>\n      <th>0</th>\n      <td>12</td>\n      <td>6</td>\n      <td>NaN</td>\n      <td>11</td>\n      <td>NaN</td>\n    </tr>\n    <tr>\n      <th>1</th>\n      <td>12</td>\n      <td>18</td>\n      <td>NaN</td>\n      <td>8</td>\n      <td>NaN</td>\n    </tr>\n    <tr>\n      <th>2</th>\n      <td>14</td>\n      <td>8</td>\n      <td>NaN</td>\n      <td>10</td>\n      <td>NaN</td>\n    </tr>\n    <tr>\n      <th>3</th>\n      <td>14</td>\n      <td>4</td>\n      <td>NaN</td>\n      <td>9</td>\n      <td>NaN</td>\n    </tr>\n    <tr>\n      <th>4</th>\n      <td>2</td>\n      <td>14</td>\n      <td>NaN</td>\n      <td>6</td>\n      <td>NaN</td>\n    </tr>\n  </tbody>\n</table>\n</div>", 
                        "text/plain": "    A   B   C   D   E\n0  12   6 NaN  11 NaN\n1  12  18 NaN   8 NaN\n2  14   8 NaN  10 NaN\n3  14   4 NaN   9 NaN\n4   2  14 NaN   6 NaN"
                    }, 
                    "output_type": "execute_result"
                }
            ], 
            "source": "dfNum2 = pd.DataFrame(np.random.RandomState(42).randint(0, 10, (5, 4)),\n                  columns=['A', 'B', 'D', 'E'])\ndfNum + dfNum2"
        }, 
        {
            "execution_count": 29, 
            "cell_type": "code", 
            "metadata": {}, 
            "outputs": [
                {
                    "execution_count": 29, 
                    "metadata": {}, 
                    "data": {
                        "text/html": "<div>\n<style scoped>\n    .dataframe tbody tr th:only-of-type {\n        vertical-align: middle;\n    }\n\n    .dataframe tbody tr th {\n        vertical-align: top;\n    }\n\n    .dataframe thead th {\n        text-align: right;\n    }\n</style>\n<table border=\"1\" class=\"dataframe\">\n  <thead>\n    <tr style=\"text-align: right;\">\n      <th></th>\n      <th>A</th>\n      <th>B</th>\n      <th>C</th>\n      <th>D</th>\n      <th>E</th>\n    </tr>\n  </thead>\n  <tbody>\n    <tr>\n      <th>0</th>\n      <td>12</td>\n      <td>6</td>\n      <td>7.0</td>\n      <td>11</td>\n      <td>4.0</td>\n    </tr>\n    <tr>\n      <th>1</th>\n      <td>12</td>\n      <td>18</td>\n      <td>2.0</td>\n      <td>8</td>\n      <td>6.0</td>\n    </tr>\n    <tr>\n      <th>2</th>\n      <td>14</td>\n      <td>8</td>\n      <td>3.0</td>\n      <td>10</td>\n      <td>7.0</td>\n    </tr>\n    <tr>\n      <th>3</th>\n      <td>14</td>\n      <td>4</td>\n      <td>5.0</td>\n      <td>9</td>\n      <td>4.0</td>\n    </tr>\n    <tr>\n      <th>4</th>\n      <td>2</td>\n      <td>14</td>\n      <td>5.0</td>\n      <td>6</td>\n      <td>1.0</td>\n    </tr>\n  </tbody>\n</table>\n</div>", 
                        "text/plain": "    A   B    C   D    E\n0  12   6  7.0  11  4.0\n1  12  18  2.0   8  6.0\n2  14   8  3.0  10  7.0\n3  14   4  5.0   9  4.0\n4   2  14  5.0   6  1.0"
                    }, 
                    "output_type": "execute_result"
                }
            ], 
            "source": "dfNum.add(dfNum2, fill_value=0)"
        }, 
        {
            "source": "##### Filtracion", 
            "cell_type": "markdown", 
            "metadata": {}
        }, 
        {
            "execution_count": 30, 
            "cell_type": "code", 
            "metadata": {}, 
            "outputs": [
                {
                    "execution_count": 30, 
                    "metadata": {}, 
                    "data": {
                        "text/html": "<div>\n<style scoped>\n    .dataframe tbody tr th:only-of-type {\n        vertical-align: middle;\n    }\n\n    .dataframe tbody tr th {\n        vertical-align: top;\n    }\n\n    .dataframe thead th {\n        text-align: right;\n    }\n</style>\n<table border=\"1\" class=\"dataframe\">\n  <thead>\n    <tr style=\"text-align: right;\">\n      <th></th>\n      <th>Animales</th>\n      <th>Cantidad</th>\n      <th>Granja</th>\n      <th>Clase</th>\n    </tr>\n  </thead>\n  <tbody>\n    <tr>\n      <th>1</th>\n      <td>Perro</td>\n      <td>2</td>\n      <td>A</td>\n      <td>Mamifero</td>\n    </tr>\n    <tr>\n      <th>3</th>\n      <td>Caballo</td>\n      <td>4</td>\n      <td>C</td>\n      <td>Mamifero</td>\n    </tr>\n    <tr>\n      <th>4</th>\n      <td>Gato</td>\n      <td>5</td>\n      <td>B</td>\n      <td>Mamifero</td>\n    </tr>\n  </tbody>\n</table>\n</div>", 
                        "text/plain": "  Animales  Cantidad Granja     Clase\n1    Perro         2      A  Mamifero\n3  Caballo         4      C  Mamifero\n4     Gato         5      B  Mamifero"
                    }, 
                    "output_type": "execute_result"
                }
            ], 
            "source": "dfDic[dfDic[\"Clase\"] == \"Mamifero\"]"
        }, 
        {
            "execution_count": 31, 
            "cell_type": "code", 
            "metadata": {}, 
            "outputs": [
                {
                    "execution_count": 31, 
                    "metadata": {}, 
                    "data": {
                        "text/html": "<div>\n<style scoped>\n    .dataframe tbody tr th:only-of-type {\n        vertical-align: middle;\n    }\n\n    .dataframe tbody tr th {\n        vertical-align: top;\n    }\n\n    .dataframe thead th {\n        text-align: right;\n    }\n</style>\n<table border=\"1\" class=\"dataframe\">\n  <thead>\n    <tr style=\"text-align: right;\">\n      <th></th>\n      <th>Animales</th>\n      <th>Cantidad</th>\n    </tr>\n  </thead>\n  <tbody>\n    <tr>\n      <th>1</th>\n      <td>Perro</td>\n      <td>2</td>\n    </tr>\n    <tr>\n      <th>3</th>\n      <td>Caballo</td>\n      <td>4</td>\n    </tr>\n    <tr>\n      <th>4</th>\n      <td>Gato</td>\n      <td>5</td>\n    </tr>\n  </tbody>\n</table>\n</div>", 
                        "text/plain": "  Animales  Cantidad\n1    Perro         2\n3  Caballo         4\n4     Gato         5"
                    }, 
                    "output_type": "execute_result"
                }
            ], 
            "source": "#Usando el .loc\ndfDic.loc[dfDic[\"Clase\"] == \"Mamifero\", [\"Animales\", \"Cantidad\"]]"
        }, 
        {
            "execution_count": 7, 
            "cell_type": "code", 
            "metadata": {}, 
            "outputs": [
                {
                    "execution_count": 7, 
                    "metadata": {}, 
                    "data": {
                        "text/html": "<div>\n<style scoped>\n    .dataframe tbody tr th:only-of-type {\n        vertical-align: middle;\n    }\n\n    .dataframe tbody tr th {\n        vertical-align: top;\n    }\n\n    .dataframe thead th {\n        text-align: right;\n    }\n</style>\n<table border=\"1\" class=\"dataframe\">\n  <thead>\n    <tr style=\"text-align: right;\">\n      <th></th>\n      <th>Animales</th>\n      <th>Cantidad</th>\n      <th>Granja</th>\n      <th>Clase</th>\n    </tr>\n  </thead>\n  <tbody>\n    <tr>\n      <th>3</th>\n      <td>Caballo</td>\n      <td>4</td>\n      <td>C</td>\n      <td>Mamifero</td>\n    </tr>\n    <tr>\n      <th>4</th>\n      <td>Gato</td>\n      <td>5</td>\n      <td>B</td>\n      <td>Mamifero</td>\n    </tr>\n  </tbody>\n</table>\n</div>", 
                        "text/plain": "  Animales  Cantidad Granja     Clase\n3  Caballo         4      C  Mamifero\n4     Gato         5      B  Mamifero"
                    }, 
                    "output_type": "execute_result"
                }
            ], 
            "source": "dfDic.loc[(dfDic.Clase == \"Mamifero\") & (dfDic.Cantidad > 2)]"
        }, 
        {
            "source": "**Algunos metodos**", 
            "cell_type": "markdown", 
            "metadata": {}
        }, 
        {
            "execution_count": 32, 
            "cell_type": "code", 
            "metadata": {}, 
            "outputs": [
                {
                    "execution_count": 32, 
                    "metadata": {}, 
                    "data": {
                        "text/html": "<div>\n<style scoped>\n    .dataframe tbody tr th:only-of-type {\n        vertical-align: middle;\n    }\n\n    .dataframe tbody tr th {\n        vertical-align: top;\n    }\n\n    .dataframe thead th {\n        text-align: right;\n    }\n</style>\n<table border=\"1\" class=\"dataframe\">\n  <thead>\n    <tr style=\"text-align: right;\">\n      <th></th>\n      <th>0</th>\n      <th>1</th>\n      <th>2</th>\n      <th>3</th>\n      <th>4</th>\n    </tr>\n  </thead>\n  <tbody>\n    <tr>\n      <th>Animales</th>\n      <td>Gallina</td>\n      <td>Perro</td>\n      <td>Tortuga</td>\n      <td>Caballo</td>\n      <td>Gato</td>\n    </tr>\n    <tr>\n      <th>Cantidad</th>\n      <td>1</td>\n      <td>2</td>\n      <td>3</td>\n      <td>4</td>\n      <td>5</td>\n    </tr>\n    <tr>\n      <th>Granja</th>\n      <td>A</td>\n      <td>A</td>\n      <td>B</td>\n      <td>C</td>\n      <td>B</td>\n    </tr>\n    <tr>\n      <th>Clase</th>\n      <td>Aves</td>\n      <td>Mamifero</td>\n      <td>Reptiles</td>\n      <td>Mamifero</td>\n      <td>Mamifero</td>\n    </tr>\n  </tbody>\n</table>\n</div>", 
                        "text/plain": "                0         1         2         3         4\nAnimales  Gallina     Perro   Tortuga   Caballo      Gato\nCantidad        1         2         3         4         5\nGranja          A         A         B         C         B\nClase        Aves  Mamifero  Reptiles  Mamifero  Mamifero"
                    }, 
                    "output_type": "execute_result"
                }
            ], 
            "source": "#Transpose el DataFrame\ndfDic.T"
        }, 
        {
            "execution_count": 33, 
            "cell_type": "code", 
            "metadata": {}, 
            "outputs": [
                {
                    "execution_count": 33, 
                    "metadata": {}, 
                    "data": {
                        "text/plain": "array([['Gallina', 1, 'A', 'Aves'],\n       ['Perro', 2, 'A', 'Mamifero'],\n       ['Tortuga', 3, 'B', 'Reptiles'],\n       ['Caballo', 4, 'C', 'Mamifero'],\n       ['Gato', 5, 'B', 'Mamifero']], dtype=object)"
                    }, 
                    "output_type": "execute_result"
                }
            ], 
            "source": "#Crea un numpy array de los valores del DataFrame\ndfDic.values"
        }, 
        {
            "execution_count": 34, 
            "cell_type": "code", 
            "metadata": {}, 
            "outputs": [
                {
                    "execution_count": 34, 
                    "metadata": {}, 
                    "data": {
                        "text/plain": "RangeIndex(start=0, stop=5, step=1)"
                    }, 
                    "output_type": "execute_result"
                }
            ], 
            "source": "dfDic.index"
        }, 
        {
            "execution_count": 35, 
            "cell_type": "code", 
            "metadata": {}, 
            "outputs": [
                {
                    "execution_count": 35, 
                    "metadata": {}, 
                    "data": {
                        "text/plain": "Index(['Animales', 'Cantidad', 'Granja', 'Clase'], dtype='object')"
                    }, 
                    "output_type": "execute_result"
                }
            ], 
            "source": "dfDic.columns"
        }, 
        {
            "execution_count": 36, 
            "cell_type": "code", 
            "metadata": {}, 
            "outputs": [
                {
                    "execution_count": 36, 
                    "metadata": {}, 
                    "data": {
                        "text/html": "<div>\n<style scoped>\n    .dataframe tbody tr th:only-of-type {\n        vertical-align: middle;\n    }\n\n    .dataframe tbody tr th {\n        vertical-align: top;\n    }\n\n    .dataframe thead th {\n        text-align: right;\n    }\n</style>\n<table border=\"1\" class=\"dataframe\">\n  <thead>\n    <tr style=\"text-align: right;\">\n      <th>DataFramColumns</th>\n      <th>Animales</th>\n      <th>Cantidad</th>\n      <th>Granja</th>\n      <th>Clase</th>\n    </tr>\n  </thead>\n  <tbody>\n    <tr>\n      <th>0</th>\n      <td>Gallina</td>\n      <td>1</td>\n      <td>A</td>\n      <td>Aves</td>\n    </tr>\n    <tr>\n      <th>1</th>\n      <td>Perro</td>\n      <td>2</td>\n      <td>A</td>\n      <td>Mamifero</td>\n    </tr>\n    <tr>\n      <th>2</th>\n      <td>Tortuga</td>\n      <td>3</td>\n      <td>B</td>\n      <td>Reptiles</td>\n    </tr>\n    <tr>\n      <th>3</th>\n      <td>Caballo</td>\n      <td>4</td>\n      <td>C</td>\n      <td>Mamifero</td>\n    </tr>\n    <tr>\n      <th>4</th>\n      <td>Gato</td>\n      <td>5</td>\n      <td>B</td>\n      <td>Mamifero</td>\n    </tr>\n  </tbody>\n</table>\n</div>", 
                        "text/plain": "DataFramColumns Animales  Cantidad Granja     Clase\n0                Gallina         1      A      Aves\n1                  Perro         2      A  Mamifero\n2                Tortuga         3      B  Reptiles\n3                Caballo         4      C  Mamifero\n4                   Gato         5      B  Mamifero"
                    }, 
                    "output_type": "execute_result"
                }
            ], 
            "source": "dfDic.columns.name = \"DataFramColumns\"\ndfDic"
        }, 
        {
            "execution_count": 37, 
            "cell_type": "code", 
            "metadata": {}, 
            "outputs": [
                {
                    "execution_count": 37, 
                    "metadata": {}, 
                    "data": {
                        "text/html": "<div>\n<style scoped>\n    .dataframe tbody tr th:only-of-type {\n        vertical-align: middle;\n    }\n\n    .dataframe tbody tr th {\n        vertical-align: top;\n    }\n\n    .dataframe thead th {\n        text-align: right;\n    }\n</style>\n<table border=\"1\" class=\"dataframe\">\n  <thead>\n    <tr style=\"text-align: right;\">\n      <th>DataFramColumns</th>\n      <th>Animales</th>\n      <th>Cantidad</th>\n      <th>Granja</th>\n      <th>Clase</th>\n    </tr>\n    <tr>\n      <th>dataFrameIndex</th>\n      <th></th>\n      <th></th>\n      <th></th>\n      <th></th>\n    </tr>\n  </thead>\n  <tbody>\n    <tr>\n      <th>0</th>\n      <td>Gallina</td>\n      <td>1</td>\n      <td>A</td>\n      <td>Aves</td>\n    </tr>\n    <tr>\n      <th>1</th>\n      <td>Perro</td>\n      <td>2</td>\n      <td>A</td>\n      <td>Mamifero</td>\n    </tr>\n    <tr>\n      <th>2</th>\n      <td>Tortuga</td>\n      <td>3</td>\n      <td>B</td>\n      <td>Reptiles</td>\n    </tr>\n    <tr>\n      <th>3</th>\n      <td>Caballo</td>\n      <td>4</td>\n      <td>C</td>\n      <td>Mamifero</td>\n    </tr>\n    <tr>\n      <th>4</th>\n      <td>Gato</td>\n      <td>5</td>\n      <td>B</td>\n      <td>Mamifero</td>\n    </tr>\n  </tbody>\n</table>\n</div>", 
                        "text/plain": "DataFramColumns Animales  Cantidad Granja     Clase\ndataFrameIndex                                     \n0                Gallina         1      A      Aves\n1                  Perro         2      A  Mamifero\n2                Tortuga         3      B  Reptiles\n3                Caballo         4      C  Mamifero\n4                   Gato         5      B  Mamifero"
                    }, 
                    "output_type": "execute_result"
                }
            ], 
            "source": "dfDic.index.name = \"dataFrameIndex\"\ndfDic"
        }, 
        {
            "execution_count": 39, 
            "cell_type": "code", 
            "metadata": {}, 
            "outputs": [
                {
                    "execution_count": 39, 
                    "metadata": {}, 
                    "data": {
                        "text/html": "<div>\n<style scoped>\n    .dataframe tbody tr th:only-of-type {\n        vertical-align: middle;\n    }\n\n    .dataframe tbody tr th {\n        vertical-align: top;\n    }\n\n    .dataframe thead th {\n        text-align: right;\n    }\n</style>\n<table border=\"1\" class=\"dataframe\">\n  <thead>\n    <tr style=\"text-align: right;\">\n      <th>DataFramColumns</th>\n      <th>Animales</th>\n      <th>Cantidad</th>\n      <th>Granja</th>\n    </tr>\n    <tr>\n      <th>dataFrameIndex</th>\n      <th></th>\n      <th></th>\n      <th></th>\n    </tr>\n  </thead>\n  <tbody>\n    <tr>\n      <th>0</th>\n      <td>Gallina</td>\n      <td>1</td>\n      <td>A</td>\n    </tr>\n    <tr>\n      <th>1</th>\n      <td>Perro</td>\n      <td>2</td>\n      <td>A</td>\n    </tr>\n    <tr>\n      <th>2</th>\n      <td>Tortuga</td>\n      <td>3</td>\n      <td>B</td>\n    </tr>\n    <tr>\n      <th>3</th>\n      <td>Caballo</td>\n      <td>4</td>\n      <td>C</td>\n    </tr>\n    <tr>\n      <th>4</th>\n      <td>Gato</td>\n      <td>5</td>\n      <td>B</td>\n    </tr>\n  </tbody>\n</table>\n</div>", 
                        "text/plain": "DataFramColumns Animales  Cantidad Granja\ndataFrameIndex                           \n0                Gallina         1      A\n1                  Perro         2      A\n2                Tortuga         3      B\n3                Caballo         4      C\n4                   Gato         5      B"
                    }, 
                    "output_type": "execute_result"
                }
            ], 
            "source": "#Para borrar una columna\ndel dfDic[\"Clase\"]\ndfDic"
        }, 
        {
            "execution_count": 40, 
            "cell_type": "code", 
            "metadata": {}, 
            "outputs": [
                {
                    "execution_count": 40, 
                    "metadata": {}, 
                    "data": {
                        "text/plain": "False"
                    }, 
                    "output_type": "execute_result"
                }
            ], 
            "source": "\"Clase\" in dfDic.columns"
        }, 
        {
            "source": "## Exploratory Data Analysis", 
            "cell_type": "markdown", 
            "metadata": {}
        }, 
        {
            "source": "### Import Dataset", 
            "cell_type": "markdown", 
            "metadata": {}
        }, 
        {
            "execution_count": 4, 
            "cell_type": "code", 
            "metadata": {}, 
            "outputs": [
                {
                    "execution_count": 4, 
                    "metadata": {}, 
                    "data": {
                        "text/html": "<div>\n<style scoped>\n    .dataframe tbody tr th:only-of-type {\n        vertical-align: middle;\n    }\n\n    .dataframe tbody tr th {\n        vertical-align: top;\n    }\n\n    .dataframe thead th {\n        text-align: right;\n    }\n</style>\n<table border=\"1\" class=\"dataframe\">\n  <thead>\n    <tr style=\"text-align: right;\">\n      <th></th>\n      <th>PassengerId</th>\n      <th>Survived</th>\n      <th>Pclass</th>\n      <th>Name</th>\n      <th>Sex</th>\n      <th>Age</th>\n      <th>SibSp</th>\n      <th>Parch</th>\n      <th>Ticket</th>\n      <th>Fare</th>\n      <th>Cabin</th>\n      <th>Embarked</th>\n    </tr>\n  </thead>\n  <tbody>\n    <tr>\n      <th>0</th>\n      <td>1</td>\n      <td>0</td>\n      <td>3</td>\n      <td>Braund, Mr. Owen Harris</td>\n      <td>male</td>\n      <td>22.0</td>\n      <td>1</td>\n      <td>0</td>\n      <td>A/5 21171</td>\n      <td>7.2500</td>\n      <td>NaN</td>\n      <td>S</td>\n    </tr>\n    <tr>\n      <th>1</th>\n      <td>2</td>\n      <td>1</td>\n      <td>1</td>\n      <td>Cumings, Mrs. John Bradley (Florence Briggs Th...</td>\n      <td>female</td>\n      <td>38.0</td>\n      <td>1</td>\n      <td>0</td>\n      <td>PC 17599</td>\n      <td>71.2833</td>\n      <td>C85</td>\n      <td>C</td>\n    </tr>\n    <tr>\n      <th>2</th>\n      <td>3</td>\n      <td>1</td>\n      <td>3</td>\n      <td>Heikkinen, Miss. Laina</td>\n      <td>female</td>\n      <td>26.0</td>\n      <td>0</td>\n      <td>0</td>\n      <td>STON/O2. 3101282</td>\n      <td>7.9250</td>\n      <td>NaN</td>\n      <td>S</td>\n    </tr>\n    <tr>\n      <th>3</th>\n      <td>4</td>\n      <td>1</td>\n      <td>1</td>\n      <td>Futrelle, Mrs. Jacques Heath (Lily May Peel)</td>\n      <td>female</td>\n      <td>35.0</td>\n      <td>1</td>\n      <td>0</td>\n      <td>113803</td>\n      <td>53.1000</td>\n      <td>C123</td>\n      <td>S</td>\n    </tr>\n    <tr>\n      <th>4</th>\n      <td>5</td>\n      <td>0</td>\n      <td>3</td>\n      <td>Allen, Mr. William Henry</td>\n      <td>male</td>\n      <td>35.0</td>\n      <td>0</td>\n      <td>0</td>\n      <td>373450</td>\n      <td>8.0500</td>\n      <td>NaN</td>\n      <td>S</td>\n    </tr>\n  </tbody>\n</table>\n</div>", 
                        "text/plain": "   PassengerId  Survived  Pclass  \\\n0            1         0       3   \n1            2         1       1   \n2            3         1       3   \n3            4         1       1   \n4            5         0       3   \n\n                                                Name     Sex   Age  SibSp  \\\n0                            Braund, Mr. Owen Harris    male  22.0      1   \n1  Cumings, Mrs. John Bradley (Florence Briggs Th...  female  38.0      1   \n2                             Heikkinen, Miss. Laina  female  26.0      0   \n3       Futrelle, Mrs. Jacques Heath (Lily May Peel)  female  35.0      1   \n4                           Allen, Mr. William Henry    male  35.0      0   \n\n   Parch            Ticket     Fare Cabin Embarked  \n0      0         A/5 21171   7.2500   NaN        S  \n1      0          PC 17599  71.2833   C85        C  \n2      0  STON/O2. 3101282   7.9250   NaN        S  \n3      0            113803  53.1000  C123        S  \n4      0            373450   8.0500   NaN        S  "
                    }, 
                    "output_type": "execute_result"
                }
            ], 
            "source": "# The code was removed by Watson Studio for sharing."
        }, 
        {
            "source": "#### Exploratory", 
            "cell_type": "markdown", 
            "metadata": {}
        }, 
        {
            "execution_count": 42, 
            "cell_type": "code", 
            "metadata": {}, 
            "outputs": [
                {
                    "output_type": "stream", 
                    "name": "stdout", 
                    "text": "<class 'pandas.core.frame.DataFrame'>\nRangeIndex: 891 entries, 0 to 890\nData columns (total 12 columns):\nPassengerId    891 non-null int64\nSurvived       891 non-null int64\nPclass         891 non-null int64\nName           891 non-null object\nSex            891 non-null object\nAge            714 non-null float64\nSibSp          891 non-null int64\nParch          891 non-null int64\nTicket         891 non-null object\nFare           891 non-null float64\nCabin          204 non-null object\nEmbarked       889 non-null object\ndtypes: float64(2), int64(5), object(5)\nmemory usage: 83.6+ KB\n"
                }
            ], 
            "source": "#Genera informacion de cada columna del dataframe\n#El total y tipo de columnas, si faltan valores y el rango de las filas\ntitanic_train.info()"
        }, 
        {
            "execution_count": 43, 
            "cell_type": "code", 
            "metadata": {}, 
            "outputs": [
                {
                    "execution_count": 43, 
                    "metadata": {}, 
                    "data": {
                        "text/html": "<div>\n<style scoped>\n    .dataframe tbody tr th:only-of-type {\n        vertical-align: middle;\n    }\n\n    .dataframe tbody tr th {\n        vertical-align: top;\n    }\n\n    .dataframe thead th {\n        text-align: right;\n    }\n</style>\n<table border=\"1\" class=\"dataframe\">\n  <thead>\n    <tr style=\"text-align: right;\">\n      <th></th>\n      <th>PassengerId</th>\n      <th>Survived</th>\n      <th>Pclass</th>\n      <th>Name</th>\n      <th>Sex</th>\n      <th>Age</th>\n      <th>SibSp</th>\n      <th>Parch</th>\n      <th>Ticket</th>\n      <th>Fare</th>\n      <th>Cabin</th>\n      <th>Embarked</th>\n    </tr>\n  </thead>\n  <tbody>\n    <tr>\n      <th>0</th>\n      <td>1</td>\n      <td>0</td>\n      <td>3</td>\n      <td>Braund, Mr. Owen Harris</td>\n      <td>male</td>\n      <td>22.0</td>\n      <td>1</td>\n      <td>0</td>\n      <td>A/5 21171</td>\n      <td>7.2500</td>\n      <td>NaN</td>\n      <td>S</td>\n    </tr>\n    <tr>\n      <th>1</th>\n      <td>2</td>\n      <td>1</td>\n      <td>1</td>\n      <td>Cumings, Mrs. John Bradley (Florence Briggs Th...</td>\n      <td>female</td>\n      <td>38.0</td>\n      <td>1</td>\n      <td>0</td>\n      <td>PC 17599</td>\n      <td>71.2833</td>\n      <td>C85</td>\n      <td>C</td>\n    </tr>\n    <tr>\n      <th>2</th>\n      <td>3</td>\n      <td>1</td>\n      <td>3</td>\n      <td>Heikkinen, Miss. Laina</td>\n      <td>female</td>\n      <td>26.0</td>\n      <td>0</td>\n      <td>0</td>\n      <td>STON/O2. 3101282</td>\n      <td>7.9250</td>\n      <td>NaN</td>\n      <td>S</td>\n    </tr>\n    <tr>\n      <th>3</th>\n      <td>4</td>\n      <td>1</td>\n      <td>1</td>\n      <td>Futrelle, Mrs. Jacques Heath (Lily May Peel)</td>\n      <td>female</td>\n      <td>35.0</td>\n      <td>1</td>\n      <td>0</td>\n      <td>113803</td>\n      <td>53.1000</td>\n      <td>C123</td>\n      <td>S</td>\n    </tr>\n    <tr>\n      <th>4</th>\n      <td>5</td>\n      <td>0</td>\n      <td>3</td>\n      <td>Allen, Mr. William Henry</td>\n      <td>male</td>\n      <td>35.0</td>\n      <td>0</td>\n      <td>0</td>\n      <td>373450</td>\n      <td>8.0500</td>\n      <td>NaN</td>\n      <td>S</td>\n    </tr>\n  </tbody>\n</table>\n</div>", 
                        "text/plain": "   PassengerId  Survived  Pclass  \\\n0            1         0       3   \n1            2         1       1   \n2            3         1       3   \n3            4         1       1   \n4            5         0       3   \n\n                                                Name     Sex   Age  SibSp  \\\n0                            Braund, Mr. Owen Harris    male  22.0      1   \n1  Cumings, Mrs. John Bradley (Florence Briggs Th...  female  38.0      1   \n2                             Heikkinen, Miss. Laina  female  26.0      0   \n3       Futrelle, Mrs. Jacques Heath (Lily May Peel)  female  35.0      1   \n4                           Allen, Mr. William Henry    male  35.0      0   \n\n   Parch            Ticket     Fare Cabin Embarked  \n0      0         A/5 21171   7.2500   NaN        S  \n1      0          PC 17599  71.2833   C85        C  \n2      0  STON/O2. 3101282   7.9250   NaN        S  \n3      0            113803  53.1000  C123        S  \n4      0            373450   8.0500   NaN        S  "
                    }, 
                    "output_type": "execute_result"
                }
            ], 
            "source": "#genera una vista completa del dataframe, por defecto solo te muestra las primeras 5 columnas, para que muestra mas tienes que poner el numero de filas dentro del metodo\ntitanic_train.head()"
        }, 
        {
            "execution_count": 44, 
            "cell_type": "code", 
            "metadata": {}, 
            "outputs": [
                {
                    "execution_count": 44, 
                    "metadata": {}, 
                    "data": {
                        "text/html": "<div>\n<style scoped>\n    .dataframe tbody tr th:only-of-type {\n        vertical-align: middle;\n    }\n\n    .dataframe tbody tr th {\n        vertical-align: top;\n    }\n\n    .dataframe thead th {\n        text-align: right;\n    }\n</style>\n<table border=\"1\" class=\"dataframe\">\n  <thead>\n    <tr style=\"text-align: right;\">\n      <th></th>\n      <th>PassengerId</th>\n      <th>Survived</th>\n      <th>Pclass</th>\n      <th>Name</th>\n      <th>Sex</th>\n      <th>Age</th>\n      <th>SibSp</th>\n      <th>Parch</th>\n      <th>Ticket</th>\n      <th>Fare</th>\n      <th>Cabin</th>\n      <th>Embarked</th>\n    </tr>\n  </thead>\n  <tbody>\n    <tr>\n      <th>886</th>\n      <td>887</td>\n      <td>0</td>\n      <td>2</td>\n      <td>Montvila, Rev. Juozas</td>\n      <td>male</td>\n      <td>27.0</td>\n      <td>0</td>\n      <td>0</td>\n      <td>211536</td>\n      <td>13.00</td>\n      <td>NaN</td>\n      <td>S</td>\n    </tr>\n    <tr>\n      <th>887</th>\n      <td>888</td>\n      <td>1</td>\n      <td>1</td>\n      <td>Graham, Miss. Margaret Edith</td>\n      <td>female</td>\n      <td>19.0</td>\n      <td>0</td>\n      <td>0</td>\n      <td>112053</td>\n      <td>30.00</td>\n      <td>B42</td>\n      <td>S</td>\n    </tr>\n    <tr>\n      <th>888</th>\n      <td>889</td>\n      <td>0</td>\n      <td>3</td>\n      <td>Johnston, Miss. Catherine Helen \"Carrie\"</td>\n      <td>female</td>\n      <td>NaN</td>\n      <td>1</td>\n      <td>2</td>\n      <td>W./C. 6607</td>\n      <td>23.45</td>\n      <td>NaN</td>\n      <td>S</td>\n    </tr>\n    <tr>\n      <th>889</th>\n      <td>890</td>\n      <td>1</td>\n      <td>1</td>\n      <td>Behr, Mr. Karl Howell</td>\n      <td>male</td>\n      <td>26.0</td>\n      <td>0</td>\n      <td>0</td>\n      <td>111369</td>\n      <td>30.00</td>\n      <td>C148</td>\n      <td>C</td>\n    </tr>\n    <tr>\n      <th>890</th>\n      <td>891</td>\n      <td>0</td>\n      <td>3</td>\n      <td>Dooley, Mr. Patrick</td>\n      <td>male</td>\n      <td>32.0</td>\n      <td>0</td>\n      <td>0</td>\n      <td>370376</td>\n      <td>7.75</td>\n      <td>NaN</td>\n      <td>Q</td>\n    </tr>\n  </tbody>\n</table>\n</div>", 
                        "text/plain": "     PassengerId  Survived  Pclass                                      Name  \\\n886          887         0       2                     Montvila, Rev. Juozas   \n887          888         1       1              Graham, Miss. Margaret Edith   \n888          889         0       3  Johnston, Miss. Catherine Helen \"Carrie\"   \n889          890         1       1                     Behr, Mr. Karl Howell   \n890          891         0       3                       Dooley, Mr. Patrick   \n\n        Sex   Age  SibSp  Parch      Ticket   Fare Cabin Embarked  \n886    male  27.0      0      0      211536  13.00   NaN        S  \n887  female  19.0      0      0      112053  30.00   B42        S  \n888  female   NaN      1      2  W./C. 6607  23.45   NaN        S  \n889    male  26.0      0      0      111369  30.00  C148        C  \n890    male  32.0      0      0      370376   7.75   NaN        Q  "
                    }, 
                    "output_type": "execute_result"
                }
            ], 
            "source": "#tail es como el head, solo que muestra los ultimos 5 valores del dataframe\ntitanic_train.tail()"
        }, 
        {
            "execution_count": 45, 
            "cell_type": "code", 
            "metadata": {}, 
            "outputs": [
                {
                    "execution_count": 45, 
                    "metadata": {}, 
                    "data": {
                        "text/html": "<div>\n<style scoped>\n    .dataframe tbody tr th:only-of-type {\n        vertical-align: middle;\n    }\n\n    .dataframe tbody tr th {\n        vertical-align: top;\n    }\n\n    .dataframe thead th {\n        text-align: right;\n    }\n</style>\n<table border=\"1\" class=\"dataframe\">\n  <thead>\n    <tr style=\"text-align: right;\">\n      <th></th>\n      <th>PassengerId</th>\n      <th>Survived</th>\n      <th>Pclass</th>\n      <th>Age</th>\n      <th>SibSp</th>\n      <th>Parch</th>\n      <th>Fare</th>\n    </tr>\n  </thead>\n  <tbody>\n    <tr>\n      <th>count</th>\n      <td>891.000000</td>\n      <td>891.000000</td>\n      <td>891.000000</td>\n      <td>714.000000</td>\n      <td>891.000000</td>\n      <td>891.000000</td>\n      <td>891.000000</td>\n    </tr>\n    <tr>\n      <th>mean</th>\n      <td>446.000000</td>\n      <td>0.383838</td>\n      <td>2.308642</td>\n      <td>29.699118</td>\n      <td>0.523008</td>\n      <td>0.381594</td>\n      <td>32.204208</td>\n    </tr>\n    <tr>\n      <th>std</th>\n      <td>257.353842</td>\n      <td>0.486592</td>\n      <td>0.836071</td>\n      <td>14.526497</td>\n      <td>1.102743</td>\n      <td>0.806057</td>\n      <td>49.693429</td>\n    </tr>\n    <tr>\n      <th>min</th>\n      <td>1.000000</td>\n      <td>0.000000</td>\n      <td>1.000000</td>\n      <td>0.420000</td>\n      <td>0.000000</td>\n      <td>0.000000</td>\n      <td>0.000000</td>\n    </tr>\n    <tr>\n      <th>25%</th>\n      <td>223.500000</td>\n      <td>0.000000</td>\n      <td>2.000000</td>\n      <td>20.125000</td>\n      <td>0.000000</td>\n      <td>0.000000</td>\n      <td>7.910400</td>\n    </tr>\n    <tr>\n      <th>50%</th>\n      <td>446.000000</td>\n      <td>0.000000</td>\n      <td>3.000000</td>\n      <td>28.000000</td>\n      <td>0.000000</td>\n      <td>0.000000</td>\n      <td>14.454200</td>\n    </tr>\n    <tr>\n      <th>75%</th>\n      <td>668.500000</td>\n      <td>1.000000</td>\n      <td>3.000000</td>\n      <td>38.000000</td>\n      <td>1.000000</td>\n      <td>0.000000</td>\n      <td>31.000000</td>\n    </tr>\n    <tr>\n      <th>max</th>\n      <td>891.000000</td>\n      <td>1.000000</td>\n      <td>3.000000</td>\n      <td>80.000000</td>\n      <td>8.000000</td>\n      <td>6.000000</td>\n      <td>512.329200</td>\n    </tr>\n  </tbody>\n</table>\n</div>", 
                        "text/plain": "       PassengerId    Survived      Pclass         Age       SibSp  \\\ncount   891.000000  891.000000  891.000000  714.000000  891.000000   \nmean    446.000000    0.383838    2.308642   29.699118    0.523008   \nstd     257.353842    0.486592    0.836071   14.526497    1.102743   \nmin       1.000000    0.000000    1.000000    0.420000    0.000000   \n25%     223.500000    0.000000    2.000000   20.125000    0.000000   \n50%     446.000000    0.000000    3.000000   28.000000    0.000000   \n75%     668.500000    1.000000    3.000000   38.000000    1.000000   \nmax     891.000000    1.000000    3.000000   80.000000    8.000000   \n\n            Parch        Fare  \ncount  891.000000  891.000000  \nmean     0.381594   32.204208  \nstd      0.806057   49.693429  \nmin      0.000000    0.000000  \n25%      0.000000    7.910400  \n50%      0.000000   14.454200  \n75%      0.000000   31.000000  \nmax      6.000000  512.329200  "
                    }, 
                    "output_type": "execute_result"
                }
            ], 
            "source": "#El describe te muestra gran parte de la estadistica de los datos \ntitanic_train.describe()"
        }, 
        {
            "execution_count": 46, 
            "cell_type": "code", 
            "metadata": {}, 
            "outputs": [
                {
                    "execution_count": 46, 
                    "metadata": {}, 
                    "data": {
                        "text/plain": "0    549\n1    342\nName: Survived, dtype: int64"
                    }, 
                    "output_type": "execute_result"
                }
            ], 
            "source": "#El value_counts solo se aplica a Series de tipo categorical o discrete variable, (lo puedes hacer en continuo pero no es muy recomendable)\n#Te muestra el total de dato para cada valor categorico/discreto\ntitanic_train[\"Survived\"].value_counts()"
        }, 
        {
            "execution_count": 49, 
            "cell_type": "code", 
            "metadata": {}, 
            "outputs": [
                {
                    "execution_count": 49, 
                    "metadata": {}, 
                    "data": {
                        "text/plain": "array(['male', 'female'], dtype=object)"
                    }, 
                    "output_type": "execute_result"
                }
            ], 
            "source": "#El unique solo muestra los valores unicos de la columna seleccionada\ntitanic_train.Sex.unique()"
        }, 
        {
            "source": "Correlation\n1. Mide la fuerza de correlation entre 2 variables: Correlation coefficient and P-value\n\nCorrelation Coefficient:\n1. Cercano a +1: Fuerte relacion positiva\n2. Cercano a -1: Fuerte relacion negativa\n2. Cercano a 0: Sin correlacion o muy debil\n\nP-value\n1. P-value < 0.001 **Strong*** certainty in the result\n2. P-value < 0.05 **Moderate** certainty in the result\n3. P-value < 0.1 **Weak** certainty in the result\n4. P-value > 0.1 **No** certainty in the result", 
            "cell_type": "markdown", 
            "metadata": {}
        }, 
        {
            "execution_count": 24, 
            "cell_type": "code", 
            "metadata": {}, 
            "outputs": [
                {
                    "execution_count": 24, 
                    "metadata": {}, 
                    "data": {
                        "text/plain": "Survived       1.000000\nFare           0.257307\nParch          0.081629\nPassengerId   -0.005007\nSibSp         -0.035322\nAge           -0.077221\nPclass        -0.338481\nName: Survived, dtype: float64"
                    }, 
                    "output_type": "execute_result"
                }
            ], 
            "source": "corr_matrix = titanic_train.corr()\ncorr_matrix[\"Survived\"].sort_values(ascending=False)"
        }, 
        {
            "execution_count": null, 
            "cell_type": "code", 
            "metadata": {}, 
            "outputs": [], 
            "source": ""
        }, 
        {
            "source": "#### Exploracion Visual", 
            "cell_type": "markdown", 
            "metadata": {}
        }, 
        {
            "execution_count": 3, 
            "cell_type": "code", 
            "metadata": {}, 
            "outputs": [], 
            "source": "import matplotlib.pyplot as plt\nimport seaborn as sn"
        }, 
        {
            "source": "**Un poco de matplotlib**\nmatplotlib funciona sobre 3 capas distintas\n1. The backend layer\n2. The artist layer\n3. The Scripting layer", 
            "cell_type": "markdown", 
            "metadata": {}
        }, 
        {
            "source": "##### Histograms", 
            "cell_type": "markdown", 
            "metadata": {}
        }, 
        {
            "source": "1. Usado para saber la frecuencia de datos continuos\n2. el x label son datos continuos, mientras la y label es la frecuencia\n3. los bins son la separacion de los datos, para saber en que rango caen\n4. is a way of representing the frecuency distribution of a variable", 
            "cell_type": "markdown", 
            "metadata": {}
        }, 
        {
            "execution_count": 6, 
            "cell_type": "code", 
            "metadata": {}, 
            "outputs": [
                {
                    "output_type": "display_data", 
                    "data": {
                        "image/png": "[encoded data removed]", 
                        "text/plain": "<matplotlib.figure.Figure at 0x7f8619f4c438>"
                    }, 
                    "metadata": {}
                }
            ], 
            "source": "#Te genera un histograma solo de los datos de tipo numerico\ntitanic_train.hist(figsize=(20, 8))\nplt.show()"
        }, 
        {
            "execution_count": 7, 
            "cell_type": "code", 
            "metadata": {}, 
            "outputs": [
                {
                    "output_type": "display_data", 
                    "data": {
                        "image/png": "[encoded data removed]", 
                        "text/plain": "<matplotlib.figure.Figure at 0x7f8636015d68>"
                    }, 
                    "metadata": {}
                }
            ], 
            "source": "#Para checar solo una columna\ntitanic_train[\"Fare\"].plot(kind=\"hist\")\nplt.title(\"Fare\")\nplt.ylabel(\"Frecuency\")\nplt.xlabel(\"Price\")\nplt.show()"
        }, 
        {
            "execution_count": 9, 
            "cell_type": "code", 
            "metadata": {}, 
            "outputs": [
                {
                    "output_type": "display_data", 
                    "data": {
                        "image/png": "[encoded data removed]", 
                        "text/plain": "<matplotlib.figure.Figure at 0x7f8634e79d68>"
                    }, 
                    "metadata": {}
                }
            ], 
            "source": "count, bin_edges = np.histogram(titanic_train[\"Fare\"])\n\ntitanic_train[\"Fare\"].plot(kind=\"hist\", xticks= bin_edges, figsize=(8, 5))\nplt.title(\"Fare\")\nplt.ylabel(\"Frecuency\")\nplt.xlabel(\"Price\")\nplt.show()"
        }, 
        {
            "source": "#### Bar Chart", 
            "cell_type": "markdown", 
            "metadata": {}
        }, 
        {
            "source": "1. Usado para saber la frecuencia de datos puntuales o categoricos\n2. Compare the values of the variables at a given point in time\n3. El barchart usa el index para las barras y la columna como la frecuencia\n4. Es necesario que en la serie se cuente con la frecuencia de cada dato", 
            "cell_type": "markdown", 
            "metadata": {}
        }, 
        {
            "execution_count": 11, 
            "cell_type": "code", 
            "metadata": {}, 
            "outputs": [
                {
                    "execution_count": 11, 
                    "metadata": {}, 
                    "data": {
                        "text/plain": "male      577\nfemale    314\nName: Sex, dtype: int64"
                    }, 
                    "output_type": "execute_result"
                }
            ], 
            "source": "#Creando la serie con la frecuencia de cada dato\nsex_serie = titanic_train[\"Sex\"].value_counts()\nsex_serie"
        }, 
        {
            "execution_count": 14, 
            "cell_type": "code", 
            "metadata": {}, 
            "outputs": [
                {
                    "output_type": "display_data", 
                    "data": {
                        "image/png": "[encoded data removed]", 
                        "text/plain": "<matplotlib.figure.Figure at 0x7f86197a3e10>"
                    }, 
                    "metadata": {}
                }
            ], 
            "source": "sex_serie.plot(kind=\"bar\", figsize=(8, 5))\nplt.title(\"Sex Barchart\")\nplt.ylabel(\"Frecuency\")\nplt.xlabel(\"Sex\")\nplt.show()"
        }, 
        {
            "source": "##### Boxplot", 
            "cell_type": "markdown", 
            "metadata": {}
        }, 
        {
            "source": "1. Sirve para sacar datos estadisticos de una variable, preferentemente del tipo continua\n2. Sacas los quartiles, median, maximum, minimum, outliers", 
            "cell_type": "markdown", 
            "metadata": {}
        }, 
        {
            "execution_count": 20, 
            "cell_type": "code", 
            "metadata": {}, 
            "outputs": [
                {
                    "output_type": "display_data", 
                    "data": {
                        "image/png": "[encoded data removed]", 
                        "text/plain": "<matplotlib.figure.Figure at 0x7f8619918588>"
                    }, 
                    "metadata": {}
                }
            ], 
            "source": "titanic_train.loc[:, [\"Age\"]].plot(kind=\"box\")\nplt.title(\"Age Boxplot\")\nplt.show()"
        }, 
        {
            "source": "##### Scatter", 
            "cell_type": "markdown", 
            "metadata": {}
        }, 
        {
            "source": "1. Sirve para saber la correlacion de 2 variables\n2. Se aplica mejor con datos continuos", 
            "cell_type": "markdown", 
            "metadata": {}
        }, 
        {
            "execution_count": 22, 
            "cell_type": "code", 
            "metadata": {}, 
            "outputs": [
                {
                    "output_type": "display_data", 
                    "data": {
                        "image/png": "[encoded data removed]", 
                        "text/plain": "<matplotlib.figure.Figure at 0x7f8619c5e780>"
                    }, 
                    "metadata": {}
                }
            ], 
            "source": "titanic_train[[\"Age\", \"Fare\"]].plot(kind='scatter', x='Age', y='Fare', figsize=(10, 6), color='darkblue')\n\nplt.title('Comparacion de Age con Fare')\nplt.xlabel('Age')\nplt.ylabel('Fare')\n\nplt.show()"
        }, 
        {
            "execution_count": 23, 
            "cell_type": "code", 
            "metadata": {}, 
            "outputs": [
                {
                    "execution_count": 23, 
                    "metadata": {}, 
                    "data": {
                        "text/html": "<div>\n<style scoped>\n    .dataframe tbody tr th:only-of-type {\n        vertical-align: middle;\n    }\n\n    .dataframe tbody tr th {\n        vertical-align: top;\n    }\n\n    .dataframe thead th {\n        text-align: right;\n    }\n</style>\n<table border=\"1\" class=\"dataframe\">\n  <thead>\n    <tr style=\"text-align: right;\">\n      <th></th>\n      <th>PassengerId</th>\n      <th>Survived</th>\n      <th>Pclass</th>\n      <th>Name</th>\n      <th>Sex</th>\n      <th>Age</th>\n      <th>SibSp</th>\n      <th>Parch</th>\n      <th>Ticket</th>\n      <th>Fare</th>\n      <th>Cabin</th>\n      <th>Embarked</th>\n    </tr>\n  </thead>\n  <tbody>\n    <tr>\n      <th>96</th>\n      <td>97</td>\n      <td>0</td>\n      <td>1</td>\n      <td>Goldschmidt, Mr. George B</td>\n      <td>male</td>\n      <td>71.0</td>\n      <td>0</td>\n      <td>0</td>\n      <td>PC 17754</td>\n      <td>34.6542</td>\n      <td>A5</td>\n      <td>C</td>\n    </tr>\n    <tr>\n      <th>116</th>\n      <td>117</td>\n      <td>0</td>\n      <td>3</td>\n      <td>Connors, Mr. Patrick</td>\n      <td>male</td>\n      <td>70.5</td>\n      <td>0</td>\n      <td>0</td>\n      <td>370369</td>\n      <td>7.7500</td>\n      <td>NaN</td>\n      <td>Q</td>\n    </tr>\n    <tr>\n      <th>493</th>\n      <td>494</td>\n      <td>0</td>\n      <td>1</td>\n      <td>Artagaveytia, Mr. Ramon</td>\n      <td>male</td>\n      <td>71.0</td>\n      <td>0</td>\n      <td>0</td>\n      <td>PC 17609</td>\n      <td>49.5042</td>\n      <td>NaN</td>\n      <td>C</td>\n    </tr>\n    <tr>\n      <th>630</th>\n      <td>631</td>\n      <td>1</td>\n      <td>1</td>\n      <td>Barkworth, Mr. Algernon Henry Wilson</td>\n      <td>male</td>\n      <td>80.0</td>\n      <td>0</td>\n      <td>0</td>\n      <td>27042</td>\n      <td>30.0000</td>\n      <td>A23</td>\n      <td>S</td>\n    </tr>\n    <tr>\n      <th>851</th>\n      <td>852</td>\n      <td>0</td>\n      <td>3</td>\n      <td>Svensson, Mr. Johan</td>\n      <td>male</td>\n      <td>74.0</td>\n      <td>0</td>\n      <td>0</td>\n      <td>347060</td>\n      <td>7.7750</td>\n      <td>NaN</td>\n      <td>S</td>\n    </tr>\n  </tbody>\n</table>\n</div>", 
                        "text/plain": "     PassengerId  Survived  Pclass                                  Name  \\\n96            97         0       1             Goldschmidt, Mr. George B   \n116          117         0       3                  Connors, Mr. Patrick   \n493          494         0       1               Artagaveytia, Mr. Ramon   \n630          631         1       1  Barkworth, Mr. Algernon Henry Wilson   \n851          852         0       3                   Svensson, Mr. Johan   \n\n      Sex   Age  SibSp  Parch    Ticket     Fare Cabin Embarked  \n96   male  71.0      0      0  PC 17754  34.6542    A5        C  \n116  male  70.5      0      0    370369   7.7500   NaN        Q  \n493  male  71.0      0      0  PC 17609  49.5042   NaN        C  \n630  male  80.0      0      0     27042  30.0000   A23        S  \n851  male  74.0      0      0    347060   7.7750   NaN        S  "
                    }, 
                    "output_type": "execute_result"
                }
            ], 
            "source": "titanic_train[titanic_train[\"Age\"] > 70]"
        }, 
        {
            "source": "## Preparacion y limpieza de datos", 
            "cell_type": "markdown", 
            "metadata": {}
        }, 
        {
            "source": "### Problemas comunes con los datos", 
            "cell_type": "markdown", 
            "metadata": {}
        }, 
        {
            "source": "* Nombres de columnas inconsistentes\n* Datos faltantes\n* Outliers (Valores atipicos)\n* Filas duplicadas\n* untidy\n* Tipos de columnas\n* Columnas contienen informacion multiple", 
            "cell_type": "markdown", 
            "metadata": {}
        }, 
        {
            "execution_count": 8, 
            "cell_type": "code", 
            "metadata": {}, 
            "outputs": [
                {
                    "execution_count": 8, 
                    "metadata": {}, 
                    "data": {
                        "text/html": "<div>\n<style scoped>\n    .dataframe tbody tr th:only-of-type {\n        vertical-align: middle;\n    }\n\n    .dataframe tbody tr th {\n        vertical-align: top;\n    }\n\n    .dataframe thead th {\n        text-align: right;\n    }\n</style>\n<table border=\"1\" class=\"dataframe\">\n  <thead>\n    <tr style=\"text-align: right;\">\n      <th></th>\n      <th>PassengerId</th>\n      <th>Survived</th>\n      <th>Pclass</th>\n      <th>Name</th>\n      <th>Sex</th>\n      <th>Age</th>\n      <th>SibSp</th>\n      <th>Parch</th>\n      <th>Ticket</th>\n      <th>Fare</th>\n      <th>Cabin</th>\n      <th>Embarked</th>\n    </tr>\n  </thead>\n  <tbody>\n    <tr>\n      <th>0</th>\n      <td>1</td>\n      <td>0</td>\n      <td>3</td>\n      <td>Braund, Mr. Owen Harris</td>\n      <td>male</td>\n      <td>22.0</td>\n      <td>1</td>\n      <td>0</td>\n      <td>A/5 21171</td>\n      <td>7.2500</td>\n      <td>NaN</td>\n      <td>S</td>\n    </tr>\n    <tr>\n      <th>1</th>\n      <td>2</td>\n      <td>1</td>\n      <td>1</td>\n      <td>Cumings, Mrs. John Bradley (Florence Briggs Th...</td>\n      <td>female</td>\n      <td>38.0</td>\n      <td>1</td>\n      <td>0</td>\n      <td>PC 17599</td>\n      <td>71.2833</td>\n      <td>C85</td>\n      <td>C</td>\n    </tr>\n    <tr>\n      <th>2</th>\n      <td>3</td>\n      <td>1</td>\n      <td>3</td>\n      <td>Heikkinen, Miss. Laina</td>\n      <td>female</td>\n      <td>26.0</td>\n      <td>0</td>\n      <td>0</td>\n      <td>STON/O2. 3101282</td>\n      <td>7.9250</td>\n      <td>NaN</td>\n      <td>S</td>\n    </tr>\n    <tr>\n      <th>3</th>\n      <td>4</td>\n      <td>1</td>\n      <td>1</td>\n      <td>Futrelle, Mrs. Jacques Heath (Lily May Peel)</td>\n      <td>female</td>\n      <td>35.0</td>\n      <td>1</td>\n      <td>0</td>\n      <td>113803</td>\n      <td>53.1000</td>\n      <td>C123</td>\n      <td>S</td>\n    </tr>\n    <tr>\n      <th>4</th>\n      <td>5</td>\n      <td>0</td>\n      <td>3</td>\n      <td>Allen, Mr. William Henry</td>\n      <td>male</td>\n      <td>35.0</td>\n      <td>0</td>\n      <td>0</td>\n      <td>373450</td>\n      <td>8.0500</td>\n      <td>NaN</td>\n      <td>S</td>\n    </tr>\n  </tbody>\n</table>\n</div>", 
                        "text/plain": "   PassengerId  Survived  Pclass  \\\n0            1         0       3   \n1            2         1       1   \n2            3         1       3   \n3            4         1       1   \n4            5         0       3   \n\n                                                Name     Sex   Age  SibSp  \\\n0                            Braund, Mr. Owen Harris    male  22.0      1   \n1  Cumings, Mrs. John Bradley (Florence Briggs Th...  female  38.0      1   \n2                             Heikkinen, Miss. Laina  female  26.0      0   \n3       Futrelle, Mrs. Jacques Heath (Lily May Peel)  female  35.0      1   \n4                           Allen, Mr. William Henry    male  35.0      0   \n\n   Parch            Ticket     Fare Cabin Embarked  \n0      0         A/5 21171   7.2500   NaN        S  \n1      0          PC 17599  71.2833   C85        C  \n2      0  STON/O2. 3101282   7.9250   NaN        S  \n3      0            113803  53.1000  C123        S  \n4      0            373450   8.0500   NaN        S  "
                    }, 
                    "output_type": "execute_result"
                }
            ], 
            "source": "titanic_train.head()"
        }, 
        {
            "source": "* Problemas: valores faltantes", 
            "cell_type": "markdown", 
            "metadata": {}
        }, 
        {
            "execution_count": 10, 
            "cell_type": "code", 
            "metadata": {}, 
            "outputs": [
                {
                    "output_type": "display_data", 
                    "data": {
                        "image/png": "[encoded data removed]", 
                        "text/plain": "<matplotlib.figure.Figure at 0x7f4f3d7c1208>"
                    }, 
                    "metadata": {}
                }
            ], 
            "source": "titanic_train.loc[:, [\"Fare\"]].plot(kind=\"box\")\nplt.title(\"Fare Boxplot\")\nplt.show()"
        }, 
        {
            "source": "* Problems: Outliers", 
            "cell_type": "markdown", 
            "metadata": {}
        }, 
        {
            "execution_count": 11, 
            "cell_type": "code", 
            "metadata": {}, 
            "outputs": [
                {
                    "output_type": "stream", 
                    "name": "stdout", 
                    "text": "<class 'pandas.core.frame.DataFrame'>\nRangeIndex: 891 entries, 0 to 890\nData columns (total 12 columns):\nPassengerId    891 non-null int64\nSurvived       891 non-null int64\nPclass         891 non-null int64\nName           891 non-null object\nSex            891 non-null object\nAge            714 non-null float64\nSibSp          891 non-null int64\nParch          891 non-null int64\nTicket         891 non-null object\nFare           891 non-null float64\nCabin          204 non-null object\nEmbarked       889 non-null object\ndtypes: float64(2), int64(5), object(5)\nmemory usage: 83.6+ KB\n"
                }
            ], 
            "source": "titanic_train.info()"
        }, 
        {
            "source": "* Problema: tipos de columnas", 
            "cell_type": "markdown", 
            "metadata": {}
        }, 
        {
            "source": "#### Tidy data", 
            "cell_type": "markdown", 
            "metadata": {}
        }, 
        {
            "source": "Manera estandar de organizar los datos en un dataset", 
            "cell_type": "markdown", 
            "metadata": {}
        }, 
        {
            "source": "* Columnas representan variables separadas\n* Filas representan observaciones individuales", 
            "cell_type": "markdown", 
            "metadata": {}
        }, 
        {
            "execution_count": 12, 
            "cell_type": "code", 
            "metadata": {}, 
            "outputs": [
                {
                    "execution_count": 12, 
                    "metadata": {}, 
                    "data": {
                        "text/html": "<div>\n<style scoped>\n    .dataframe tbody tr th:only-of-type {\n        vertical-align: middle;\n    }\n\n    .dataframe tbody tr th {\n        vertical-align: top;\n    }\n\n    .dataframe thead th {\n        text-align: right;\n    }\n</style>\n<table border=\"1\" class=\"dataframe\">\n  <thead>\n    <tr style=\"text-align: right;\">\n      <th></th>\n      <th>0</th>\n      <th>1</th>\n      <th>2</th>\n    </tr>\n  </thead>\n  <tbody>\n    <tr>\n      <th>nombre</th>\n      <td>Daniel</td>\n      <td>Jhon</td>\n      <td>Jane</td>\n    </tr>\n    <tr>\n      <th>Tratamiento a</th>\n      <td>NaN</td>\n      <td>12</td>\n      <td>24</td>\n    </tr>\n    <tr>\n      <th>Tratamiento b</th>\n      <td>42</td>\n      <td>31</td>\n      <td>37</td>\n    </tr>\n  </tbody>\n</table>\n</div>", 
                        "text/plain": "                    0     1     2\nnombre         Daniel  Jhon  Jane\nTratamiento a     NaN    12    24\nTratamiento b      42    31    37"
                    }, 
                    "output_type": "execute_result"
                }
            ], 
            "source": "#Ejemplo de un dataset untidy\nuntidyDF = pd.DataFrame({0 : [\"Daniel\", np.nan, 42], 1: [\"Jhon\", 12, 31], 2: [\"Jane\", 24, 37] }, index=[\"nombre\", \"Tratamiento a\", \"Tratamiento b\"])\nuntidyDF"
        }, 
        {
            "source": "Problemas:\n* Los nombres de columna no tienen ni un significado\n* Las columnas no representan variables separadas, al contrario, cada columna es igual, 0 comparte los mismo tipos de variable que 1 y 2\n* Las filas no representan observaciones individuales, representan variables", 
            "cell_type": "markdown", 
            "metadata": {}
        }, 
        {
            "source": "**Columnas con informacion multiple**", 
            "cell_type": "markdown", 
            "metadata": {}
        }, 
        {
            "execution_count": 14, 
            "cell_type": "code", 
            "metadata": {}, 
            "outputs": [
                {
                    "execution_count": 14, 
                    "metadata": {}, 
                    "data": {
                        "text/html": "<div>\n<style scoped>\n    .dataframe tbody tr th:only-of-type {\n        vertical-align: middle;\n    }\n\n    .dataframe tbody tr th {\n        vertical-align: top;\n    }\n\n    .dataframe thead th {\n        text-align: right;\n    }\n</style>\n<table border=\"1\" class=\"dataframe\">\n  <thead>\n    <tr style=\"text-align: right;\">\n      <th></th>\n      <th>Country</th>\n      <th>F014</th>\n      <th>M014</th>\n      <th>Year</th>\n    </tr>\n  </thead>\n  <tbody>\n    <tr>\n      <th>0</th>\n      <td>MX</td>\n      <td>0</td>\n      <td>0</td>\n      <td>2000</td>\n    </tr>\n    <tr>\n      <th>1</th>\n      <td>US</td>\n      <td>4</td>\n      <td>2</td>\n      <td>2000</td>\n    </tr>\n    <tr>\n      <th>2</th>\n      <td>CA</td>\n      <td>228</td>\n      <td>52</td>\n      <td>2000</td>\n    </tr>\n  </tbody>\n</table>\n</div>", 
                        "text/plain": "  Country  F014  M014  Year\n0      MX     0     0  2000\n1      US     4     2  2000\n2      CA   228    52  2000"
                    }, 
                    "output_type": "execute_result"
                }
            ], 
            "source": "multiDF = pd.DataFrame({\"Country\" : [\"MX\", \"US\", \"CA\"], \"Year\": [2000, 2000, 2000], \"M014\": [0, 2, 52], \"F014\": [0, 4, 228] })\nmultiDF"
        }, 
        {
            "source": "F014 M014 <- la primera letra representa el sexo de la persona, F o M, el resto la edad: de 0 a 14.", 
            "cell_type": "markdown", 
            "metadata": {}
        }, 
        {
            "source": "### Manejando valores faltantes", 
            "cell_type": "markdown", 
            "metadata": {}
        }, 
        {
            "source": "#### NaN", 
            "cell_type": "markdown", 
            "metadata": {}
        }, 
        {
            "source": "* Pandas maneja sus valores faltantes como NaN. El NaN solo es usado en columnas con valores de tipo \"Float\" u \"Object\", \n* Cuando una columna de tipo int o boolean contiene valores faltantes, entonces dicha columna es casteada a float (si es entero) u object (si es boolean).\n* Si tratas de realizar cualquier operacion matematica con un NaN como: 1 + NaN, dicha operacion siempre dara un NaN", 
            "cell_type": "markdown", 
            "metadata": {}
        }, 
        {
            "execution_count": 3, 
            "cell_type": "code", 
            "metadata": {}, 
            "outputs": [
                {
                    "execution_count": 3, 
                    "metadata": {}, 
                    "data": {
                        "text/plain": "nan"
                    }, 
                    "output_type": "execute_result"
                }
            ], 
            "source": "1 + np.nan"
        }, 
        {
            "source": "#### Detectando valores faltantes", 
            "cell_type": "markdown", 
            "metadata": {}
        }, 
        {
            "execution_count": 7, 
            "cell_type": "code", 
            "metadata": {}, 
            "outputs": [
                {
                    "execution_count": 7, 
                    "metadata": {}, 
                    "data": {
                        "text/html": "<div>\n<style scoped>\n    .dataframe tbody tr th:only-of-type {\n        vertical-align: middle;\n    }\n\n    .dataframe tbody tr th {\n        vertical-align: top;\n    }\n\n    .dataframe thead th {\n        text-align: right;\n    }\n</style>\n<table border=\"1\" class=\"dataframe\">\n  <thead>\n    <tr style=\"text-align: right;\">\n      <th></th>\n      <th>PassengerId</th>\n      <th>Survived</th>\n      <th>Pclass</th>\n      <th>Name</th>\n      <th>Sex</th>\n      <th>Age</th>\n      <th>SibSp</th>\n      <th>Parch</th>\n      <th>Ticket</th>\n      <th>Fare</th>\n      <th>Cabin</th>\n      <th>Embarked</th>\n    </tr>\n  </thead>\n  <tbody>\n    <tr>\n      <th>0</th>\n      <td>False</td>\n      <td>False</td>\n      <td>False</td>\n      <td>False</td>\n      <td>False</td>\n      <td>False</td>\n      <td>False</td>\n      <td>False</td>\n      <td>False</td>\n      <td>False</td>\n      <td>True</td>\n      <td>False</td>\n    </tr>\n    <tr>\n      <th>1</th>\n      <td>False</td>\n      <td>False</td>\n      <td>False</td>\n      <td>False</td>\n      <td>False</td>\n      <td>False</td>\n      <td>False</td>\n      <td>False</td>\n      <td>False</td>\n      <td>False</td>\n      <td>False</td>\n      <td>False</td>\n    </tr>\n    <tr>\n      <th>2</th>\n      <td>False</td>\n      <td>False</td>\n      <td>False</td>\n      <td>False</td>\n      <td>False</td>\n      <td>False</td>\n      <td>False</td>\n      <td>False</td>\n      <td>False</td>\n      <td>False</td>\n      <td>True</td>\n      <td>False</td>\n    </tr>\n    <tr>\n      <th>3</th>\n      <td>False</td>\n      <td>False</td>\n      <td>False</td>\n      <td>False</td>\n      <td>False</td>\n      <td>False</td>\n      <td>False</td>\n      <td>False</td>\n      <td>False</td>\n      <td>False</td>\n      <td>False</td>\n      <td>False</td>\n    </tr>\n    <tr>\n      <th>4</th>\n      <td>False</td>\n      <td>False</td>\n      <td>False</td>\n      <td>False</td>\n      <td>False</td>\n      <td>False</td>\n      <td>False</td>\n      <td>False</td>\n      <td>False</td>\n      <td>False</td>\n      <td>True</td>\n      <td>False</td>\n    </tr>\n  </tbody>\n</table>\n</div>", 
                        "text/plain": "   PassengerId  Survived  Pclass   Name    Sex    Age  SibSp  Parch  Ticket  \\\n0        False     False   False  False  False  False  False  False   False   \n1        False     False   False  False  False  False  False  False   False   \n2        False     False   False  False  False  False  False  False   False   \n3        False     False   False  False  False  False  False  False   False   \n4        False     False   False  False  False  False  False  False   False   \n\n    Fare  Cabin  Embarked  \n0  False   True     False  \n1  False  False     False  \n2  False   True     False  \n3  False  False     False  \n4  False   True     False  "
                    }, 
                    "output_type": "execute_result"
                }
            ], 
            "source": "# Vamos a usar el dataset del titanic\ntitanic_train.isnull().head()"
        }, 
        {
            "execution_count": 8, 
            "cell_type": "code", 
            "metadata": {}, 
            "outputs": [
                {
                    "execution_count": 8, 
                    "metadata": {}, 
                    "data": {
                        "text/plain": "PassengerId    False\nSurvived       False\nPclass         False\nName           False\nSex            False\nAge             True\nSibSp          False\nParch          False\nTicket         False\nFare           False\nCabin           True\nEmbarked        True\ndtype: bool"
                    }, 
                    "output_type": "execute_result"
                }
            ], 
            "source": "#Usamos el .any para saber si al menos un valor dentro de la columna es del tipo NaN\ntitanic_train.isnull().any()"
        }, 
        {
            "source": "Observamos que hay 3 columnas que contienen por lo menos un valor del tipo NaN.\n\nSi quisieramos saber quienes con dichos valores entonces usamos el siguiente metodo.", 
            "cell_type": "markdown", 
            "metadata": {}
        }, 
        {
            "execution_count": 9, 
            "cell_type": "code", 
            "metadata": {}, 
            "outputs": [
                {
                    "execution_count": 9, 
                    "metadata": {}, 
                    "data": {
                        "text/html": "<div>\n<style scoped>\n    .dataframe tbody tr th:only-of-type {\n        vertical-align: middle;\n    }\n\n    .dataframe tbody tr th {\n        vertical-align: top;\n    }\n\n    .dataframe thead th {\n        text-align: right;\n    }\n</style>\n<table border=\"1\" class=\"dataframe\">\n  <thead>\n    <tr style=\"text-align: right;\">\n      <th></th>\n      <th>PassengerId</th>\n      <th>Survived</th>\n      <th>Pclass</th>\n      <th>Name</th>\n      <th>Sex</th>\n      <th>Age</th>\n      <th>SibSp</th>\n      <th>Parch</th>\n      <th>Ticket</th>\n      <th>Fare</th>\n      <th>Cabin</th>\n      <th>Embarked</th>\n    </tr>\n  </thead>\n  <tbody>\n    <tr>\n      <th>5</th>\n      <td>6</td>\n      <td>0</td>\n      <td>3</td>\n      <td>Moran, Mr. James</td>\n      <td>male</td>\n      <td>NaN</td>\n      <td>0</td>\n      <td>0</td>\n      <td>330877</td>\n      <td>8.4583</td>\n      <td>NaN</td>\n      <td>Q</td>\n    </tr>\n    <tr>\n      <th>17</th>\n      <td>18</td>\n      <td>1</td>\n      <td>2</td>\n      <td>Williams, Mr. Charles Eugene</td>\n      <td>male</td>\n      <td>NaN</td>\n      <td>0</td>\n      <td>0</td>\n      <td>244373</td>\n      <td>13.0000</td>\n      <td>NaN</td>\n      <td>S</td>\n    </tr>\n    <tr>\n      <th>19</th>\n      <td>20</td>\n      <td>1</td>\n      <td>3</td>\n      <td>Masselmani, Mrs. Fatima</td>\n      <td>female</td>\n      <td>NaN</td>\n      <td>0</td>\n      <td>0</td>\n      <td>2649</td>\n      <td>7.2250</td>\n      <td>NaN</td>\n      <td>C</td>\n    </tr>\n    <tr>\n      <th>26</th>\n      <td>27</td>\n      <td>0</td>\n      <td>3</td>\n      <td>Emir, Mr. Farred Chehab</td>\n      <td>male</td>\n      <td>NaN</td>\n      <td>0</td>\n      <td>0</td>\n      <td>2631</td>\n      <td>7.2250</td>\n      <td>NaN</td>\n      <td>C</td>\n    </tr>\n    <tr>\n      <th>28</th>\n      <td>29</td>\n      <td>1</td>\n      <td>3</td>\n      <td>O'Dwyer, Miss. Ellen \"Nellie\"</td>\n      <td>female</td>\n      <td>NaN</td>\n      <td>0</td>\n      <td>0</td>\n      <td>330959</td>\n      <td>7.8792</td>\n      <td>NaN</td>\n      <td>Q</td>\n    </tr>\n  </tbody>\n</table>\n</div>", 
                        "text/plain": "    PassengerId  Survived  Pclass                           Name     Sex  Age  \\\n5             6         0       3               Moran, Mr. James    male  NaN   \n17           18         1       2   Williams, Mr. Charles Eugene    male  NaN   \n19           20         1       3        Masselmani, Mrs. Fatima  female  NaN   \n26           27         0       3        Emir, Mr. Farred Chehab    male  NaN   \n28           29         1       3  O'Dwyer, Miss. Ellen \"Nellie\"  female  NaN   \n\n    SibSp  Parch  Ticket     Fare Cabin Embarked  \n5       0      0  330877   8.4583   NaN        Q  \n17      0      0  244373  13.0000   NaN        S  \n19      0      0    2649   7.2250   NaN        C  \n26      0      0    2631   7.2250   NaN        C  \n28      0      0  330959   7.8792   NaN        Q  "
                    }, 
                    "output_type": "execute_result"
                }
            ], 
            "source": "titanic_train[titanic_train[\"Age\"].isnull()].head()"
        }, 
        {
            "source": "#### Manejando valores faltantes", 
            "cell_type": "markdown", 
            "metadata": {}
        }, 
        {
            "source": "Las operaciones mas comunes para lidiar con este tipo de datos son:\n* Drop - eliminarlos\n* Reemplazar los valores faltantes con su promedio o frecuencia\n* Dejar los valores faltantes", 
            "cell_type": "markdown", 
            "metadata": {}
        }, 
        {
            "source": "##### Drop Missing values", 
            "cell_type": "markdown", 
            "metadata": {}
        }, 
        {
            "source": "Usar solamente cuando tenemos pocas filas con valores faltantes", 
            "cell_type": "markdown", 
            "metadata": {}
        }, 
        {
            "execution_count": 16, 
            "cell_type": "code", 
            "metadata": {}, 
            "outputs": [
                {
                    "output_type": "stream", 
                    "name": "stdout", 
                    "text": "PassengerId    False\nSurvived       False\nPclass         False\nName           False\nSex            False\nAge            False\nSibSp          False\nParch          False\nTicket         False\nFare           False\nCabin          False\nEmbarked       False\ndtype: bool\n<class 'pandas.core.frame.DataFrame'>\nInt64Index: 183 entries, 1 to 889\nData columns (total 12 columns):\nPassengerId    183 non-null int64\nSurvived       183 non-null int64\nPclass         183 non-null int64\nName           183 non-null object\nSex            183 non-null object\nAge            183 non-null float64\nSibSp          183 non-null int64\nParch          183 non-null int64\nTicket         183 non-null object\nFare           183 non-null float64\nCabin          183 non-null object\nEmbarked       183 non-null object\ndtypes: float64(2), int64(5), object(5)\nmemory usage: 18.6+ KB\n"
                }
            ], 
            "source": "newDF = titanic_train.dropna()\nprint(newDF.isnull().any())\nnewDF.info()"
        }, 
        {
            "execution_count": 19, 
            "cell_type": "code", 
            "metadata": {}, 
            "outputs": [
                {
                    "output_type": "stream", 
                    "name": "stdout", 
                    "text": "<class 'pandas.core.frame.DataFrame'>\nInt64Index: 889 entries, 0 to 890\nData columns (total 12 columns):\nPassengerId    889 non-null int64\nSurvived       889 non-null int64\nPclass         889 non-null int64\nName           889 non-null object\nSex            889 non-null object\nAge            712 non-null float64\nSibSp          889 non-null int64\nParch          889 non-null int64\nTicket         889 non-null object\nFare           889 non-null float64\nCabin          202 non-null object\nEmbarked       889 non-null object\ndtypes: float64(2), int64(5), object(5)\nmemory usage: 90.3+ KB\nNone\n"
                }, 
                {
                    "execution_count": 19, 
                    "metadata": {}, 
                    "data": {
                        "text/plain": "PassengerId    False\nSurvived       False\nPclass         False\nName           False\nSex            False\nAge             True\nSibSp          False\nParch          False\nTicket         False\nFare           False\nCabin           True\nEmbarked       False\ndtype: bool"
                    }, 
                    "output_type": "execute_result"
                }
            ], 
            "source": "# Tambien podemos eliminar las filas con valores faltantes de una columna especifica\nnewDF2 = titanic_train.dropna(subset=[\"Embarked\"], axis=0)\nprint(newDF2.info())\nnewDF2.isnull().any()"
        }, 
        {
            "source": "Como ves el df se redujo a solo 889 filas, pero ya no tenemos valores faltantes en Embarked", 
            "cell_type": "markdown", 
            "metadata": {}
        }, 
        {
            "source": "##### Reemplazando los valores faltantes", 
            "cell_type": "markdown", 
            "metadata": {}
        }, 
        {
            "source": "El metodo del reemplazo es el mas usado, aqui unos consejos\n* Reemplazar con el promedio cuando los datos son numericos\n* Reemplazar con frecuencia cuando los datos son categoricos\n* Tambien se puede usar el metodo fillna para reemplzarlo de manera no tan aleatoria", 
            "cell_type": "markdown", 
            "metadata": {}
        }, 
        {
            "source": "**Usando el reemplazo numerico**", 
            "cell_type": "markdown", 
            "metadata": {}
        }, 
        {
            "execution_count": 20, 
            "cell_type": "code", 
            "metadata": {}, 
            "outputs": [
                {
                    "execution_count": 20, 
                    "metadata": {}, 
                    "data": {
                        "text/plain": "False"
                    }, 
                    "output_type": "execute_result"
                }
            ], 
            "source": "#Para esto usaremos como ejemplo la columna Age\nmeanAge = titanic_train[\"Age\"].mean()\nAgeFixedSerie = titanic_train[\"Age\"].replace(np.nan, meanAge)\nAgeFixedSerie.isnull().any()"
        }, 
        {
            "source": "**Usando el reemplazo en categoricos**", 
            "cell_type": "markdown", 
            "metadata": {}
        }, 
        {
            "execution_count": 42, 
            "cell_type": "code", 
            "metadata": {}, 
            "outputs": [
                {
                    "output_type": "stream", 
                    "name": "stdout", 
                    "text": "S\n"
                }, 
                {
                    "execution_count": 42, 
                    "metadata": {}, 
                    "data": {
                        "text/plain": "False"
                    }, 
                    "output_type": "execute_result"
                }
            ], 
            "source": "#Para esto usaremos embarked\nmoda = titanic_train[\"Embarked\"].mode()[0]\nprint(moda)\nEmbarkedFixedSerie = titanic_train[\"Embarked\"].replace(np.nan, moda)\nEmbarkedFixedSerie.isnull().any()"
        }, 
        {
            "source": "**Usando fillna**", 
            "cell_type": "markdown", 
            "metadata": {}
        }, 
        {
            "source": "Los metodos mas usados del fillna son: ffill y bfill\n* ffill rellena los valores faltantes usando al valor siguiente\n* bfill rellena los valores faltantes usando al valor anterior", 
            "cell_type": "markdown", 
            "metadata": {}
        }, 
        {
            "execution_count": 48, 
            "cell_type": "code", 
            "metadata": {}, 
            "outputs": [
                {
                    "execution_count": 48, 
                    "metadata": {}, 
                    "data": {
                        "text/plain": "False"
                    }, 
                    "output_type": "execute_result"
                }
            ], 
            "source": "AgeFfill = titanic_train[\"Age\"].fillna(\"ffill\")\nAgeFfill.isnull().any()"
        }, 
        {
            "source": "### Transformacion de datos", 
            "cell_type": "markdown", 
            "metadata": {}
        }, 
        {
            "execution_count": null, 
            "cell_type": "code", 
            "metadata": {}, 
            "outputs": [], 
            "source": ""
        }
    ], 
    "metadata": {
        "kernelspec": {
            "display_name": "Python 3.5", 
            "name": "python3", 
            "language": "python"
        }, 
        "language_info": {
            "mimetype": "text/x-python", 
            "nbconvert_exporter": "python", 
            "version": "3.5.5", 
            "name": "python", 
            "file_extension": ".py", 
            "pygments_lexer": "ipython3", 
            "codemirror_mode": {
                "version": 3, 
                "name": "ipython"
            }
        }
    }, 
    "nbformat": 4
}