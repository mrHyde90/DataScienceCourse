{
    "nbformat_minor": 1, 
    "cells": [
        {
            "source": "# Bienvenidos al curso en ciencia de datos!", 
            "cell_type": "markdown", 
            "metadata": {}
        }, 
        {
            "execution_count": 1, 
            "cell_type": "code", 
            "metadata": {}, 
            "outputs": [], 
            "source": "#Importando las librerias\nimport pandas as pd\nimport numpy as np"
        }, 
        {
            "source": "## Introducci\u00f3n a pandas", 
            "cell_type": "markdown", 
            "metadata": {}
        }, 
        {
            "source": "### Series", 
            "cell_type": "markdown", 
            "metadata": {}
        }, 
        {
            "source": "1. Las series son secuencias de valores de una dimencion \n2. Son bastante parecidas a los arreglos \n3. La diferencia es que cuentan con un index", 
            "cell_type": "markdown", 
            "metadata": {}
        }, 
        {
            "source": "#### Creando series", 
            "cell_type": "markdown", 
            "metadata": {}
        }, 
        {
            "execution_count": 24, 
            "cell_type": "code", 
            "metadata": {}, 
            "outputs": [
                {
                    "execution_count": 24, 
                    "metadata": {}, 
                    "data": {
                        "text/plain": "0    1\n1    2\n2    3\n3    4\n4    5\ndtype: int64"
                    }, 
                    "output_type": "execute_result"
                }
            ], 
            "source": "#Series como arreglos\nserie = pd.Series([1, 2, 3, 4, 5])\nserie"
        }, 
        {
            "execution_count": 4, 
            "cell_type": "code", 
            "metadata": {}, 
            "outputs": [
                {
                    "execution_count": 4, 
                    "metadata": {}, 
                    "data": {
                        "text/plain": "Caballo    5\nGallina    4\nGato       3\nPerro      2\ndtype: int64"
                    }, 
                    "output_type": "execute_result"
                }
            ], 
            "source": "#Series como diccionarios\nserieDic = pd.Series({\"Perro\": 2, \"Gato\": 3, \"Gallina\": 4, \"Caballo\": 5})\nserieDic"
        }, 
        {
            "execution_count": 5, 
            "cell_type": "code", 
            "metadata": {}, 
            "outputs": [
                {
                    "execution_count": 5, 
                    "metadata": {}, 
                    "data": {
                        "text/plain": "AA    A\nBB    B\nCC    C\nDD    D\ndtype: object"
                    }, 
                    "output_type": "execute_result"
                }
            ], 
            "source": "#Serie de objetos\nserieObj = pd.Series([\"A\", \"B\", \"C\", \"D\"], index=[\"AA\", \"BB\", \"CC\", \"DD\"])\nserieObj"
        }, 
        {
            "execution_count": 22, 
            "cell_type": "code", 
            "metadata": {}, 
            "outputs": [
                {
                    "execution_count": 22, 
                    "metadata": {}, 
                    "data": {
                        "text/plain": "0     5\n2     6\n4    12\n6    45\n8     7\ndtype: int64"
                    }, 
                    "output_type": "execute_result"
                }
            ], 
            "source": "#indices pares\nserieNum = pd.Series([5, 6, 12, 45, 7], index=[0, 2, 4, 6, 8])\nserieNum"
        }, 
        {
            "source": "#### Seleccion,  operaciones matematicas, filtracion y algunos metodos", 
            "cell_type": "markdown", 
            "metadata": {}
        }, 
        {
            "source": "##### Seleccion", 
            "cell_type": "markdown", 
            "metadata": {}
        }, 
        {
            "execution_count": 6, 
            "cell_type": "code", 
            "metadata": {}, 
            "outputs": [
                {
                    "execution_count": 6, 
                    "metadata": {}, 
                    "data": {
                        "text/plain": "1    2\n2    3\n3    4\ndtype: int64"
                    }, 
                    "output_type": "execute_result"
                }
            ], 
            "source": "#Seleccion mediante slicing, del index 1 hasta el 3, no se toma el cuenta el 4 o el ultimo valor, a esto se le llama exclusivo\nserie[1:4]"
        }, 
        {
            "execution_count": 9, 
            "cell_type": "code", 
            "metadata": {}, 
            "outputs": [
                {
                    "execution_count": 9, 
                    "metadata": {}, 
                    "data": {
                        "text/plain": "AA    A\nBB    B\ndtype: object"
                    }, 
                    "output_type": "execute_result"
                }
            ], 
            "source": "#Seleccion de multiples index, si se van a elegir multiples index es necesario usar doble corchete\nserieObj[[\"AA\", \"BB\"]]"
        }, 
        {
            "execution_count": 13, 
            "cell_type": "code", 
            "metadata": {}, 
            "outputs": [
                {
                    "output_type": "stream", 
                    "name": "stdout", 
                    "text": "0    1\n1    2\n2    3\n3    4\n4    5\ndtype: int64\n"
                }, 
                {
                    "execution_count": 13, 
                    "metadata": {}, 
                    "data": {
                        "text/plain": "0    23\n1     2\n2     3\n3     4\n4     5\ndtype: int64"
                    }, 
                    "output_type": "execute_result"
                }
            ], 
            "source": "#Cambio de valor, unicamente especificar el index de valor que se quiere cambiar\nprint(serie)\nserie[0] = 23\nserie"
        }, 
        {
            "source": "##### Operaciones matematicas", 
            "cell_type": "markdown", 
            "metadata": {}
        }, 
        {
            "source": "operaciones simples", 
            "cell_type": "markdown", 
            "metadata": {}
        }, 
        {
            "source": "\n| operacion      | signo          |\n| ------------- |-------------:|\n| suma     | + |\n| resta      | - |\n| multiplicacion | *|\n| Division | /    |", 
            "cell_type": "markdown", 
            "metadata": {}
        }, 
        {
            "execution_count": 14, 
            "cell_type": "code", 
            "metadata": {}, 
            "outputs": [
                {
                    "execution_count": 14, 
                    "metadata": {}, 
                    "data": {
                        "text/plain": "0    46\n1     4\n2     6\n3     8\n4    10\ndtype: int64"
                    }, 
                    "output_type": "execute_result"
                }
            ], 
            "source": "serie * 2"
        }, 
        {
            "source": "**Suma de 2 series: Index Aligment**", 
            "cell_type": "markdown", 
            "metadata": {}
        }, 
        {
            "execution_count": 25, 
            "cell_type": "code", 
            "metadata": {}, 
            "outputs": [
                {
                    "execution_count": 25, 
                    "metadata": {}, 
                    "data": {
                        "text/plain": "0     6.0\n1     NaN\n2     9.0\n3     NaN\n4    17.0\n6     NaN\n8     NaN\ndtype: float64"
                    }, 
                    "output_type": "execute_result"
                }
            ], 
            "source": "#Se usan los indices para poder suma\nserie + serieNum"
        }, 
        {
            "execution_count": 26, 
            "cell_type": "code", 
            "metadata": {}, 
            "outputs": [
                {
                    "execution_count": 26, 
                    "metadata": {}, 
                    "data": {
                        "text/plain": "0     6.0\n1     2.0\n2     9.0\n3     4.0\n4    17.0\n6    45.0\n8     7.0\ndtype: float64"
                    }, 
                    "output_type": "execute_result"
                }
            ], 
            "source": "serie.add(serieNum, fill_value=0)"
        }, 
        {
            "source": "**operaciones mas avanzadas**", 
            "cell_type": "markdown", 
            "metadata": {}
        }, 
        {
            "execution_count": 15, 
            "cell_type": "code", 
            "metadata": {}, 
            "outputs": [
                {
                    "execution_count": 15, 
                    "metadata": {}, 
                    "data": {
                        "text/plain": "0    9.744803e+09\n1    7.389056e+00\n2    2.008554e+01\n3    5.459815e+01\n4    1.484132e+02\ndtype: float64"
                    }, 
                    "output_type": "execute_result"
                }
            ], 
            "source": "np.exp(serie)"
        }, 
        {
            "execution_count": 16, 
            "cell_type": "code", 
            "metadata": {}, 
            "outputs": [
                {
                    "execution_count": 16, 
                    "metadata": {}, 
                    "data": {
                        "text/plain": "0   -0.846220\n1    0.909297\n2    0.141120\n3   -0.756802\n4   -0.958924\ndtype: float64"
                    }, 
                    "output_type": "execute_result"
                }
            ], 
            "source": "np.sin(serie)"
        }, 
        {
            "source": "##### Algunos metodos", 
            "cell_type": "markdown", 
            "metadata": {}
        }, 
        {
            "execution_count": 17, 
            "cell_type": "code", 
            "metadata": {}, 
            "outputs": [
                {
                    "execution_count": 17, 
                    "metadata": {}, 
                    "data": {
                        "text/plain": "RangeIndex(start=0, stop=5, step=1)"
                    }, 
                    "output_type": "execute_result"
                }
            ], 
            "source": "#Desplegando el index\nserie.index"
        }, 
        {
            "execution_count": 18, 
            "cell_type": "code", 
            "metadata": {}, 
            "outputs": [
                {
                    "execution_count": 18, 
                    "metadata": {}, 
                    "data": {
                        "text/plain": "Index(['AA', 'BB', 'CC', 'DD'], dtype='object')"
                    }, 
                    "output_type": "execute_result"
                }
            ], 
            "source": "serieObj.index"
        }, 
        {
            "execution_count": 19, 
            "cell_type": "code", 
            "metadata": {}, 
            "outputs": [
                {
                    "execution_count": 19, 
                    "metadata": {}, 
                    "data": {
                        "text/plain": "array([23,  2,  3,  4,  5])"
                    }, 
                    "output_type": "execute_result"
                }
            ], 
            "source": "#Despliega los valores de la serie como un numpy array\nserie.values"
        }, 
        {
            "source": "**Nota que serie.index y serieObj.index tienen diferentes resultados, aunque los 2 sean index uno es del tipo RangeIndex y el otro solo Index**", 
            "cell_type": "markdown", 
            "metadata": {}
        }, 
        {
            "execution_count": 20, 
            "cell_type": "code", 
            "metadata": {}, 
            "outputs": [
                {
                    "execution_count": 20, 
                    "metadata": {}, 
                    "data": {
                        "text/plain": "True"
                    }, 
                    "output_type": "execute_result"
                }
            ], 
            "source": "#Checa si se encuentra el 1 dentro de la serie\n1 in serie"
        }, 
        {
            "source": "**Filtrando**", 
            "cell_type": "markdown", 
            "metadata": {}
        }, 
        {
            "execution_count": 22, 
            "cell_type": "code", 
            "metadata": {}, 
            "outputs": [
                {
                    "execution_count": 22, 
                    "metadata": {}, 
                    "data": {
                        "text/plain": "0     True\n1    False\n2    False\n3     True\n4     True\ndtype: bool"
                    }, 
                    "output_type": "execute_result"
                }
            ], 
            "source": "#Al momento de comparar una serie se crea una serie de booleanos, esta la puedes usar para filtrar datos\nserie > 3"
        }, 
        {
            "execution_count": 23, 
            "cell_type": "code", 
            "metadata": {}, 
            "outputs": [
                {
                    "execution_count": 23, 
                    "metadata": {}, 
                    "data": {
                        "text/plain": "0    23\n3     4\n4     5\ndtype: int64"
                    }, 
                    "output_type": "execute_result"
                }
            ], 
            "source": "#Hemos usado la serie de arriba para filtrar, los unicos index que se toman son los que contienen el true en la serie de booleanos\nserie[serie > 3]"
        }, 
        {
            "source": "### DataFrame", 
            "cell_type": "markdown", 
            "metadata": {}
        }, 
        {
            "source": "1. Compuesto de 2 dimenciones\n2. sus filas son sus indices y sus columnas sus variables", 
            "cell_type": "markdown", 
            "metadata": {}
        }, 
        {
            "source": "#### Creando un DataFrame", 
            "cell_type": "markdown", 
            "metadata": {}
        }, 
        {
            "execution_count": 24, 
            "cell_type": "code", 
            "metadata": {}, 
            "outputs": [
                {
                    "execution_count": 24, 
                    "metadata": {}, 
                    "data": {
                        "text/html": "<div>\n<style scoped>\n    .dataframe tbody tr th:only-of-type {\n        vertical-align: middle;\n    }\n\n    .dataframe tbody tr th {\n        vertical-align: top;\n    }\n\n    .dataframe thead th {\n        text-align: right;\n    }\n</style>\n<table border=\"1\" class=\"dataframe\">\n  <thead>\n    <tr style=\"text-align: right;\">\n      <th></th>\n      <th>Animales</th>\n      <th>Letras</th>\n    </tr>\n  </thead>\n  <tbody>\n    <tr>\n      <th>AA</th>\n      <td>NaN</td>\n      <td>A</td>\n    </tr>\n    <tr>\n      <th>BB</th>\n      <td>NaN</td>\n      <td>B</td>\n    </tr>\n    <tr>\n      <th>CC</th>\n      <td>NaN</td>\n      <td>C</td>\n    </tr>\n    <tr>\n      <th>Caballo</th>\n      <td>5.0</td>\n      <td>NaN</td>\n    </tr>\n    <tr>\n      <th>DD</th>\n      <td>NaN</td>\n      <td>D</td>\n    </tr>\n    <tr>\n      <th>Gallina</th>\n      <td>4.0</td>\n      <td>NaN</td>\n    </tr>\n    <tr>\n      <th>Gato</th>\n      <td>3.0</td>\n      <td>NaN</td>\n    </tr>\n    <tr>\n      <th>Perro</th>\n      <td>2.0</td>\n      <td>NaN</td>\n    </tr>\n  </tbody>\n</table>\n</div>", 
                        "text/plain": "         Animales Letras\nAA            NaN      A\nBB            NaN      B\nCC            NaN      C\nCaballo       5.0    NaN\nDD            NaN      D\nGallina       4.0    NaN\nGato          3.0    NaN\nPerro         2.0    NaN"
                    }, 
                    "output_type": "execute_result"
                }
            ], 
            "source": "#Creando un dataframe con Series\ndf = pd.DataFrame({\"Animales\": serieDic, \"Letras\": serieObj})\ndf"
        }, 
        {
            "execution_count": 3, 
            "cell_type": "code", 
            "metadata": {}, 
            "outputs": [
                {
                    "execution_count": 3, 
                    "metadata": {}, 
                    "data": {
                        "text/html": "<div>\n<style scoped>\n    .dataframe tbody tr th:only-of-type {\n        vertical-align: middle;\n    }\n\n    .dataframe tbody tr th {\n        vertical-align: top;\n    }\n\n    .dataframe thead th {\n        text-align: right;\n    }\n</style>\n<table border=\"1\" class=\"dataframe\">\n  <thead>\n    <tr style=\"text-align: right;\">\n      <th></th>\n      <th>Animales</th>\n      <th>Cantidad</th>\n      <th>Granja</th>\n    </tr>\n  </thead>\n  <tbody>\n    <tr>\n      <th>0</th>\n      <td>Gallina</td>\n      <td>1</td>\n      <td>A</td>\n    </tr>\n    <tr>\n      <th>1</th>\n      <td>Perro</td>\n      <td>2</td>\n      <td>A</td>\n    </tr>\n    <tr>\n      <th>2</th>\n      <td>Tortuga</td>\n      <td>3</td>\n      <td>B</td>\n    </tr>\n    <tr>\n      <th>3</th>\n      <td>Caballo</td>\n      <td>4</td>\n      <td>C</td>\n    </tr>\n    <tr>\n      <th>4</th>\n      <td>Gato</td>\n      <td>5</td>\n      <td>B</td>\n    </tr>\n  </tbody>\n</table>\n</div>", 
                        "text/plain": "  Animales  Cantidad Granja\n0  Gallina         1      A\n1    Perro         2      A\n2  Tortuga         3      B\n3  Caballo         4      C\n4     Gato         5      B"
                    }, 
                    "output_type": "execute_result"
                }
            ], 
            "source": "#Creando un dataframe con diccionarios\ndfDic = pd.DataFrame({\"Animales\": [\"Gallina\", \"Perro\", \"Tortuga\", \"Caballo\", \"Gato\"], \"Cantidad\": [1, 2, 3, 4, 5], \"Granja\": [\"A\", \"A\", \"B\", \"C\", \"B\"]})\ndfDic"
        }, 
        {
            "source": "#### Seleccion,  operaciones matematicas, filtracion y algunos metodos", 
            "cell_type": "markdown", 
            "metadata": {}
        }, 
        {
            "source": "##### Seleccion", 
            "cell_type": "markdown", 
            "metadata": {}
        }, 
        {
            "source": "Para seleccionar en un dataframe se especifica el nombre de la columna que se quiere seleccionar", 
            "cell_type": "markdown", 
            "metadata": {}
        }, 
        {
            "execution_count": 9, 
            "cell_type": "code", 
            "metadata": {}, 
            "outputs": [
                {
                    "execution_count": 9, 
                    "metadata": {}, 
                    "data": {
                        "text/plain": "0    Gallina\n1      Perro\n2    Tortuga\n3    Caballo\n4       Gato\nName: Animales, dtype: object"
                    }, 
                    "output_type": "execute_result"
                }
            ], 
            "source": "#Seleccion con el punto\n#Crea una serie\ndfDic.Animales"
        }, 
        {
            "execution_count": 4, 
            "cell_type": "code", 
            "metadata": {}, 
            "outputs": [
                {
                    "execution_count": 4, 
                    "metadata": {}, 
                    "data": {
                        "text/plain": "0    Gallina\n1      Perro\n2    Tortuga\n3    Caballo\n4       Gato\nName: Animales, dtype: object"
                    }, 
                    "output_type": "execute_result"
                }
            ], 
            "source": "#Seleccion de una columna mediante brackets\n#Crea una serie\ndfDic[\"Animales\"]"
        }, 
        {
            "execution_count": 5, 
            "cell_type": "code", 
            "metadata": {}, 
            "outputs": [
                {
                    "execution_count": 5, 
                    "metadata": {}, 
                    "data": {
                        "text/html": "<div>\n<style scoped>\n    .dataframe tbody tr th:only-of-type {\n        vertical-align: middle;\n    }\n\n    .dataframe tbody tr th {\n        vertical-align: top;\n    }\n\n    .dataframe thead th {\n        text-align: right;\n    }\n</style>\n<table border=\"1\" class=\"dataframe\">\n  <thead>\n    <tr style=\"text-align: right;\">\n      <th></th>\n      <th>Animales</th>\n      <th>Cantidad</th>\n    </tr>\n  </thead>\n  <tbody>\n    <tr>\n      <th>0</th>\n      <td>Gallina</td>\n      <td>1</td>\n    </tr>\n    <tr>\n      <th>1</th>\n      <td>Perro</td>\n      <td>2</td>\n    </tr>\n    <tr>\n      <th>2</th>\n      <td>Tortuga</td>\n      <td>3</td>\n    </tr>\n    <tr>\n      <th>3</th>\n      <td>Caballo</td>\n      <td>4</td>\n    </tr>\n    <tr>\n      <th>4</th>\n      <td>Gato</td>\n      <td>5</td>\n    </tr>\n  </tbody>\n</table>\n</div>", 
                        "text/plain": "  Animales  Cantidad\n0  Gallina         1\n1    Perro         2\n2  Tortuga         3\n3  Caballo         4\n4     Gato         5"
                    }, 
                    "output_type": "execute_result"
                }
            ], 
            "source": "#Seleccion de multiples columnas\n#Para seleccionar multiples columnas recuerda usar double brackets\ndfDic[[\"Animales\", \"Cantidad\"]]"
        }, 
        {
            "source": "**Seleccion con .loc e .iloc**", 
            "cell_type": "markdown", 
            "metadata": {}
        }, 
        {
            "source": ".loc\n1. se usan los nombres del indice y las columnas\n2. el slicing es inclusivo, incluye la ultima columna o indice", 
            "cell_type": "markdown", 
            "metadata": {}
        }, 
        {
            "execution_count": 7, 
            "cell_type": "code", 
            "metadata": {}, 
            "outputs": [
                {
                    "execution_count": 7, 
                    "metadata": {}, 
                    "data": {
                        "text/html": "<div>\n<style scoped>\n    .dataframe tbody tr th:only-of-type {\n        vertical-align: middle;\n    }\n\n    .dataframe tbody tr th {\n        vertical-align: top;\n    }\n\n    .dataframe thead th {\n        text-align: right;\n    }\n</style>\n<table border=\"1\" class=\"dataframe\">\n  <thead>\n    <tr style=\"text-align: right;\">\n      <th></th>\n      <th>Animales</th>\n      <th>Cantidad</th>\n    </tr>\n  </thead>\n  <tbody>\n    <tr>\n      <th>1</th>\n      <td>Perro</td>\n      <td>2</td>\n    </tr>\n    <tr>\n      <th>2</th>\n      <td>Tortuga</td>\n      <td>3</td>\n    </tr>\n    <tr>\n      <th>3</th>\n      <td>Caballo</td>\n      <td>4</td>\n    </tr>\n  </tbody>\n</table>\n</div>", 
                        "text/plain": "  Animales  Cantidad\n1    Perro         2\n2  Tortuga         3\n3  Caballo         4"
                    }, 
                    "output_type": "execute_result"
                }
            ], 
            "source": "dfDic.loc[1:3, [\"Animales\", \"Cantidad\"]]"
        }, 
        {
            "source": ".iloc\n1. Se usan las posiciones de las columnas y del indice\n2. el slicing es exclusivo, excluye el ultimo numero", 
            "cell_type": "markdown", 
            "metadata": {}
        }, 
        {
            "execution_count": 8, 
            "cell_type": "code", 
            "metadata": {}, 
            "outputs": [
                {
                    "execution_count": 8, 
                    "metadata": {}, 
                    "data": {
                        "text/html": "<div>\n<style scoped>\n    .dataframe tbody tr th:only-of-type {\n        vertical-align: middle;\n    }\n\n    .dataframe tbody tr th {\n        vertical-align: top;\n    }\n\n    .dataframe thead th {\n        text-align: right;\n    }\n</style>\n<table border=\"1\" class=\"dataframe\">\n  <thead>\n    <tr style=\"text-align: right;\">\n      <th></th>\n      <th>Animales</th>\n      <th>Cantidad</th>\n    </tr>\n  </thead>\n  <tbody>\n    <tr>\n      <th>1</th>\n      <td>Perro</td>\n      <td>2</td>\n    </tr>\n    <tr>\n      <th>2</th>\n      <td>Tortuga</td>\n      <td>3</td>\n    </tr>\n  </tbody>\n</table>\n</div>", 
                        "text/plain": "  Animales  Cantidad\n1    Perro         2\n2  Tortuga         3"
                    }, 
                    "output_type": "execute_result"
                }
            ], 
            "source": "#Mira que va del 1 al 3 sin incluir al 3, al igual en las columnas\ndfDic.iloc[1:3, 0:2 ]"
        }, 
        {
            "source": "**Creando una nueva columna**", 
            "cell_type": "markdown", 
            "metadata": {}
        }, 
        {
            "execution_count": 10, 
            "cell_type": "code", 
            "metadata": {}, 
            "outputs": [
                {
                    "execution_count": 10, 
                    "metadata": {}, 
                    "data": {
                        "text/html": "<div>\n<style scoped>\n    .dataframe tbody tr th:only-of-type {\n        vertical-align: middle;\n    }\n\n    .dataframe tbody tr th {\n        vertical-align: top;\n    }\n\n    .dataframe thead th {\n        text-align: right;\n    }\n</style>\n<table border=\"1\" class=\"dataframe\">\n  <thead>\n    <tr style=\"text-align: right;\">\n      <th></th>\n      <th>Animales</th>\n      <th>Cantidad</th>\n      <th>Granja</th>\n      <th>Clase</th>\n    </tr>\n  </thead>\n  <tbody>\n    <tr>\n      <th>0</th>\n      <td>Gallina</td>\n      <td>1</td>\n      <td>A</td>\n      <td>Aves</td>\n    </tr>\n    <tr>\n      <th>1</th>\n      <td>Perro</td>\n      <td>2</td>\n      <td>A</td>\n      <td>Mamifero</td>\n    </tr>\n    <tr>\n      <th>2</th>\n      <td>Tortuga</td>\n      <td>3</td>\n      <td>B</td>\n      <td>Reptiles</td>\n    </tr>\n    <tr>\n      <th>3</th>\n      <td>Caballo</td>\n      <td>4</td>\n      <td>C</td>\n      <td>Mamifero</td>\n    </tr>\n    <tr>\n      <th>4</th>\n      <td>Gato</td>\n      <td>5</td>\n      <td>B</td>\n      <td>Mamifero</td>\n    </tr>\n  </tbody>\n</table>\n</div>", 
                        "text/plain": "  Animales  Cantidad Granja     Clase\n0  Gallina         1      A      Aves\n1    Perro         2      A  Mamifero\n2  Tortuga         3      B  Reptiles\n3  Caballo         4      C  Mamifero\n4     Gato         5      B  Mamifero"
                    }, 
                    "output_type": "execute_result"
                }
            ], 
            "source": "dfDic[\"Clase\"] = [\"Aves\", \"Mamifero\", \"Reptiles\", \"Mamifero\", \"Mamifero\"]\ndfDic"
        }, 
        {
            "source": "**Operaciones Matematicas**", 
            "cell_type": "markdown", 
            "metadata": {}
        }, 
        {
            "execution_count": 18, 
            "cell_type": "code", 
            "metadata": {}, 
            "outputs": [
                {
                    "execution_count": 18, 
                    "metadata": {}, 
                    "data": {
                        "text/html": "<div>\n<style scoped>\n    .dataframe tbody tr th:only-of-type {\n        vertical-align: middle;\n    }\n\n    .dataframe tbody tr th {\n        vertical-align: top;\n    }\n\n    .dataframe thead th {\n        text-align: right;\n    }\n</style>\n<table border=\"1\" class=\"dataframe\">\n  <thead>\n    <tr style=\"text-align: right;\">\n      <th></th>\n      <th>A</th>\n      <th>B</th>\n      <th>C</th>\n      <th>D</th>\n    </tr>\n  </thead>\n  <tbody>\n    <tr>\n      <th>0</th>\n      <td>6</td>\n      <td>3</td>\n      <td>7</td>\n      <td>4</td>\n    </tr>\n    <tr>\n      <th>1</th>\n      <td>6</td>\n      <td>9</td>\n      <td>2</td>\n      <td>6</td>\n    </tr>\n    <tr>\n      <th>2</th>\n      <td>7</td>\n      <td>4</td>\n      <td>3</td>\n      <td>7</td>\n    </tr>\n    <tr>\n      <th>3</th>\n      <td>7</td>\n      <td>2</td>\n      <td>5</td>\n      <td>4</td>\n    </tr>\n    <tr>\n      <th>4</th>\n      <td>1</td>\n      <td>7</td>\n      <td>5</td>\n      <td>1</td>\n    </tr>\n  </tbody>\n</table>\n</div>", 
                        "text/plain": "   A  B  C  D\n0  6  3  7  4\n1  6  9  2  6\n2  7  4  3  7\n3  7  2  5  4\n4  1  7  5  1"
                    }, 
                    "output_type": "execute_result"
                }
            ], 
            "source": "dfNum = pd.DataFrame(np.random.RandomState(42).randint(0, 10, (5, 4)),\n                  columns=['A', 'B', 'C', 'D'])\ndfNum"
        }, 
        {
            "execution_count": 19, 
            "cell_type": "code", 
            "metadata": {}, 
            "outputs": [
                {
                    "execution_count": 19, 
                    "metadata": {}, 
                    "data": {
                        "text/html": "<div>\n<style scoped>\n    .dataframe tbody tr th:only-of-type {\n        vertical-align: middle;\n    }\n\n    .dataframe tbody tr th {\n        vertical-align: top;\n    }\n\n    .dataframe thead th {\n        text-align: right;\n    }\n</style>\n<table border=\"1\" class=\"dataframe\">\n  <thead>\n    <tr style=\"text-align: right;\">\n      <th></th>\n      <th>A</th>\n      <th>B</th>\n      <th>C</th>\n      <th>D</th>\n    </tr>\n  </thead>\n  <tbody>\n    <tr>\n      <th>0</th>\n      <td>-0.279415</td>\n      <td>0.141120</td>\n      <td>0.656987</td>\n      <td>-0.756802</td>\n    </tr>\n    <tr>\n      <th>1</th>\n      <td>-0.279415</td>\n      <td>0.412118</td>\n      <td>0.909297</td>\n      <td>-0.279415</td>\n    </tr>\n    <tr>\n      <th>2</th>\n      <td>0.656987</td>\n      <td>-0.756802</td>\n      <td>0.141120</td>\n      <td>0.656987</td>\n    </tr>\n    <tr>\n      <th>3</th>\n      <td>0.656987</td>\n      <td>0.909297</td>\n      <td>-0.958924</td>\n      <td>-0.756802</td>\n    </tr>\n    <tr>\n      <th>4</th>\n      <td>0.841471</td>\n      <td>0.656987</td>\n      <td>-0.958924</td>\n      <td>0.841471</td>\n    </tr>\n  </tbody>\n</table>\n</div>", 
                        "text/plain": "          A         B         C         D\n0 -0.279415  0.141120  0.656987 -0.756802\n1 -0.279415  0.412118  0.909297 -0.279415\n2  0.656987 -0.756802  0.141120  0.656987\n3  0.656987  0.909297 -0.958924 -0.756802\n4  0.841471  0.656987 -0.958924  0.841471"
                    }, 
                    "output_type": "execute_result"
                }
            ], 
            "source": "np.sin(dfNum)"
        }, 
        {
            "source": "**Index aligment in DataFrames**", 
            "cell_type": "markdown", 
            "metadata": {}
        }, 
        {
            "execution_count": 27, 
            "cell_type": "code", 
            "metadata": {}, 
            "outputs": [
                {
                    "execution_count": 27, 
                    "metadata": {}, 
                    "data": {
                        "text/html": "<div>\n<style scoped>\n    .dataframe tbody tr th:only-of-type {\n        vertical-align: middle;\n    }\n\n    .dataframe tbody tr th {\n        vertical-align: top;\n    }\n\n    .dataframe thead th {\n        text-align: right;\n    }\n</style>\n<table border=\"1\" class=\"dataframe\">\n  <thead>\n    <tr style=\"text-align: right;\">\n      <th></th>\n      <th>A</th>\n      <th>B</th>\n      <th>C</th>\n      <th>D</th>\n      <th>E</th>\n    </tr>\n  </thead>\n  <tbody>\n    <tr>\n      <th>0</th>\n      <td>12</td>\n      <td>6</td>\n      <td>NaN</td>\n      <td>11</td>\n      <td>NaN</td>\n    </tr>\n    <tr>\n      <th>1</th>\n      <td>12</td>\n      <td>18</td>\n      <td>NaN</td>\n      <td>8</td>\n      <td>NaN</td>\n    </tr>\n    <tr>\n      <th>2</th>\n      <td>14</td>\n      <td>8</td>\n      <td>NaN</td>\n      <td>10</td>\n      <td>NaN</td>\n    </tr>\n    <tr>\n      <th>3</th>\n      <td>14</td>\n      <td>4</td>\n      <td>NaN</td>\n      <td>9</td>\n      <td>NaN</td>\n    </tr>\n    <tr>\n      <th>4</th>\n      <td>2</td>\n      <td>14</td>\n      <td>NaN</td>\n      <td>6</td>\n      <td>NaN</td>\n    </tr>\n  </tbody>\n</table>\n</div>", 
                        "text/plain": "    A   B   C   D   E\n0  12   6 NaN  11 NaN\n1  12  18 NaN   8 NaN\n2  14   8 NaN  10 NaN\n3  14   4 NaN   9 NaN\n4   2  14 NaN   6 NaN"
                    }, 
                    "output_type": "execute_result"
                }
            ], 
            "source": "dfNum2 = pd.DataFrame(np.random.RandomState(42).randint(0, 10, (5, 4)),\n                  columns=['A', 'B', 'D', 'E'])\ndfNum + dfNum2"
        }, 
        {
            "execution_count": 29, 
            "cell_type": "code", 
            "metadata": {}, 
            "outputs": [
                {
                    "execution_count": 29, 
                    "metadata": {}, 
                    "data": {
                        "text/html": "<div>\n<style scoped>\n    .dataframe tbody tr th:only-of-type {\n        vertical-align: middle;\n    }\n\n    .dataframe tbody tr th {\n        vertical-align: top;\n    }\n\n    .dataframe thead th {\n        text-align: right;\n    }\n</style>\n<table border=\"1\" class=\"dataframe\">\n  <thead>\n    <tr style=\"text-align: right;\">\n      <th></th>\n      <th>A</th>\n      <th>B</th>\n      <th>C</th>\n      <th>D</th>\n      <th>E</th>\n    </tr>\n  </thead>\n  <tbody>\n    <tr>\n      <th>0</th>\n      <td>12</td>\n      <td>6</td>\n      <td>7.0</td>\n      <td>11</td>\n      <td>4.0</td>\n    </tr>\n    <tr>\n      <th>1</th>\n      <td>12</td>\n      <td>18</td>\n      <td>2.0</td>\n      <td>8</td>\n      <td>6.0</td>\n    </tr>\n    <tr>\n      <th>2</th>\n      <td>14</td>\n      <td>8</td>\n      <td>3.0</td>\n      <td>10</td>\n      <td>7.0</td>\n    </tr>\n    <tr>\n      <th>3</th>\n      <td>14</td>\n      <td>4</td>\n      <td>5.0</td>\n      <td>9</td>\n      <td>4.0</td>\n    </tr>\n    <tr>\n      <th>4</th>\n      <td>2</td>\n      <td>14</td>\n      <td>5.0</td>\n      <td>6</td>\n      <td>1.0</td>\n    </tr>\n  </tbody>\n</table>\n</div>", 
                        "text/plain": "    A   B    C   D    E\n0  12   6  7.0  11  4.0\n1  12  18  2.0   8  6.0\n2  14   8  3.0  10  7.0\n3  14   4  5.0   9  4.0\n4   2  14  5.0   6  1.0"
                    }, 
                    "output_type": "execute_result"
                }
            ], 
            "source": "dfNum.add(dfNum2, fill_value=0)"
        }, 
        {
            "source": "##### Filtracion", 
            "cell_type": "markdown", 
            "metadata": {}
        }, 
        {
            "execution_count": 30, 
            "cell_type": "code", 
            "metadata": {}, 
            "outputs": [
                {
                    "execution_count": 30, 
                    "metadata": {}, 
                    "data": {
                        "text/html": "<div>\n<style scoped>\n    .dataframe tbody tr th:only-of-type {\n        vertical-align: middle;\n    }\n\n    .dataframe tbody tr th {\n        vertical-align: top;\n    }\n\n    .dataframe thead th {\n        text-align: right;\n    }\n</style>\n<table border=\"1\" class=\"dataframe\">\n  <thead>\n    <tr style=\"text-align: right;\">\n      <th></th>\n      <th>Animales</th>\n      <th>Cantidad</th>\n      <th>Granja</th>\n      <th>Clase</th>\n    </tr>\n  </thead>\n  <tbody>\n    <tr>\n      <th>1</th>\n      <td>Perro</td>\n      <td>2</td>\n      <td>A</td>\n      <td>Mamifero</td>\n    </tr>\n    <tr>\n      <th>3</th>\n      <td>Caballo</td>\n      <td>4</td>\n      <td>C</td>\n      <td>Mamifero</td>\n    </tr>\n    <tr>\n      <th>4</th>\n      <td>Gato</td>\n      <td>5</td>\n      <td>B</td>\n      <td>Mamifero</td>\n    </tr>\n  </tbody>\n</table>\n</div>", 
                        "text/plain": "  Animales  Cantidad Granja     Clase\n1    Perro         2      A  Mamifero\n3  Caballo         4      C  Mamifero\n4     Gato         5      B  Mamifero"
                    }, 
                    "output_type": "execute_result"
                }
            ], 
            "source": "dfDic[dfDic[\"Clase\"] == \"Mamifero\"]"
        }, 
        {
            "execution_count": 31, 
            "cell_type": "code", 
            "metadata": {}, 
            "outputs": [
                {
                    "execution_count": 31, 
                    "metadata": {}, 
                    "data": {
                        "text/html": "<div>\n<style scoped>\n    .dataframe tbody tr th:only-of-type {\n        vertical-align: middle;\n    }\n\n    .dataframe tbody tr th {\n        vertical-align: top;\n    }\n\n    .dataframe thead th {\n        text-align: right;\n    }\n</style>\n<table border=\"1\" class=\"dataframe\">\n  <thead>\n    <tr style=\"text-align: right;\">\n      <th></th>\n      <th>Animales</th>\n      <th>Cantidad</th>\n    </tr>\n  </thead>\n  <tbody>\n    <tr>\n      <th>1</th>\n      <td>Perro</td>\n      <td>2</td>\n    </tr>\n    <tr>\n      <th>3</th>\n      <td>Caballo</td>\n      <td>4</td>\n    </tr>\n    <tr>\n      <th>4</th>\n      <td>Gato</td>\n      <td>5</td>\n    </tr>\n  </tbody>\n</table>\n</div>", 
                        "text/plain": "  Animales  Cantidad\n1    Perro         2\n3  Caballo         4\n4     Gato         5"
                    }, 
                    "output_type": "execute_result"
                }
            ], 
            "source": "#Usando el .loc\ndfDic.loc[dfDic[\"Clase\"] == \"Mamifero\", [\"Animales\", \"Cantidad\"]]"
        }, 
        {
            "source": "**Algunos metodos**", 
            "cell_type": "markdown", 
            "metadata": {}
        }, 
        {
            "execution_count": 32, 
            "cell_type": "code", 
            "metadata": {}, 
            "outputs": [
                {
                    "execution_count": 32, 
                    "metadata": {}, 
                    "data": {
                        "text/html": "<div>\n<style scoped>\n    .dataframe tbody tr th:only-of-type {\n        vertical-align: middle;\n    }\n\n    .dataframe tbody tr th {\n        vertical-align: top;\n    }\n\n    .dataframe thead th {\n        text-align: right;\n    }\n</style>\n<table border=\"1\" class=\"dataframe\">\n  <thead>\n    <tr style=\"text-align: right;\">\n      <th></th>\n      <th>0</th>\n      <th>1</th>\n      <th>2</th>\n      <th>3</th>\n      <th>4</th>\n    </tr>\n  </thead>\n  <tbody>\n    <tr>\n      <th>Animales</th>\n      <td>Gallina</td>\n      <td>Perro</td>\n      <td>Tortuga</td>\n      <td>Caballo</td>\n      <td>Gato</td>\n    </tr>\n    <tr>\n      <th>Cantidad</th>\n      <td>1</td>\n      <td>2</td>\n      <td>3</td>\n      <td>4</td>\n      <td>5</td>\n    </tr>\n    <tr>\n      <th>Granja</th>\n      <td>A</td>\n      <td>A</td>\n      <td>B</td>\n      <td>C</td>\n      <td>B</td>\n    </tr>\n    <tr>\n      <th>Clase</th>\n      <td>Aves</td>\n      <td>Mamifero</td>\n      <td>Reptiles</td>\n      <td>Mamifero</td>\n      <td>Mamifero</td>\n    </tr>\n  </tbody>\n</table>\n</div>", 
                        "text/plain": "                0         1         2         3         4\nAnimales  Gallina     Perro   Tortuga   Caballo      Gato\nCantidad        1         2         3         4         5\nGranja          A         A         B         C         B\nClase        Aves  Mamifero  Reptiles  Mamifero  Mamifero"
                    }, 
                    "output_type": "execute_result"
                }
            ], 
            "source": "#Transpose el DataFrame\ndfDic.T"
        }, 
        {
            "execution_count": 33, 
            "cell_type": "code", 
            "metadata": {}, 
            "outputs": [
                {
                    "execution_count": 33, 
                    "metadata": {}, 
                    "data": {
                        "text/plain": "array([['Gallina', 1, 'A', 'Aves'],\n       ['Perro', 2, 'A', 'Mamifero'],\n       ['Tortuga', 3, 'B', 'Reptiles'],\n       ['Caballo', 4, 'C', 'Mamifero'],\n       ['Gato', 5, 'B', 'Mamifero']], dtype=object)"
                    }, 
                    "output_type": "execute_result"
                }
            ], 
            "source": "#Crea un numpy array de los valores del DataFrame\ndfDic.values"
        }, 
        {
            "execution_count": 34, 
            "cell_type": "code", 
            "metadata": {}, 
            "outputs": [
                {
                    "execution_count": 34, 
                    "metadata": {}, 
                    "data": {
                        "text/plain": "RangeIndex(start=0, stop=5, step=1)"
                    }, 
                    "output_type": "execute_result"
                }
            ], 
            "source": "dfDic.index"
        }, 
        {
            "execution_count": 35, 
            "cell_type": "code", 
            "metadata": {}, 
            "outputs": [
                {
                    "execution_count": 35, 
                    "metadata": {}, 
                    "data": {
                        "text/plain": "Index(['Animales', 'Cantidad', 'Granja', 'Clase'], dtype='object')"
                    }, 
                    "output_type": "execute_result"
                }
            ], 
            "source": "dfDic.columns"
        }, 
        {
            "execution_count": 36, 
            "cell_type": "code", 
            "metadata": {}, 
            "outputs": [
                {
                    "execution_count": 36, 
                    "metadata": {}, 
                    "data": {
                        "text/html": "<div>\n<style scoped>\n    .dataframe tbody tr th:only-of-type {\n        vertical-align: middle;\n    }\n\n    .dataframe tbody tr th {\n        vertical-align: top;\n    }\n\n    .dataframe thead th {\n        text-align: right;\n    }\n</style>\n<table border=\"1\" class=\"dataframe\">\n  <thead>\n    <tr style=\"text-align: right;\">\n      <th>DataFramColumns</th>\n      <th>Animales</th>\n      <th>Cantidad</th>\n      <th>Granja</th>\n      <th>Clase</th>\n    </tr>\n  </thead>\n  <tbody>\n    <tr>\n      <th>0</th>\n      <td>Gallina</td>\n      <td>1</td>\n      <td>A</td>\n      <td>Aves</td>\n    </tr>\n    <tr>\n      <th>1</th>\n      <td>Perro</td>\n      <td>2</td>\n      <td>A</td>\n      <td>Mamifero</td>\n    </tr>\n    <tr>\n      <th>2</th>\n      <td>Tortuga</td>\n      <td>3</td>\n      <td>B</td>\n      <td>Reptiles</td>\n    </tr>\n    <tr>\n      <th>3</th>\n      <td>Caballo</td>\n      <td>4</td>\n      <td>C</td>\n      <td>Mamifero</td>\n    </tr>\n    <tr>\n      <th>4</th>\n      <td>Gato</td>\n      <td>5</td>\n      <td>B</td>\n      <td>Mamifero</td>\n    </tr>\n  </tbody>\n</table>\n</div>", 
                        "text/plain": "DataFramColumns Animales  Cantidad Granja     Clase\n0                Gallina         1      A      Aves\n1                  Perro         2      A  Mamifero\n2                Tortuga         3      B  Reptiles\n3                Caballo         4      C  Mamifero\n4                   Gato         5      B  Mamifero"
                    }, 
                    "output_type": "execute_result"
                }
            ], 
            "source": "dfDic.columns.name = \"DataFramColumns\"\ndfDic"
        }, 
        {
            "execution_count": 37, 
            "cell_type": "code", 
            "metadata": {}, 
            "outputs": [
                {
                    "execution_count": 37, 
                    "metadata": {}, 
                    "data": {
                        "text/html": "<div>\n<style scoped>\n    .dataframe tbody tr th:only-of-type {\n        vertical-align: middle;\n    }\n\n    .dataframe tbody tr th {\n        vertical-align: top;\n    }\n\n    .dataframe thead th {\n        text-align: right;\n    }\n</style>\n<table border=\"1\" class=\"dataframe\">\n  <thead>\n    <tr style=\"text-align: right;\">\n      <th>DataFramColumns</th>\n      <th>Animales</th>\n      <th>Cantidad</th>\n      <th>Granja</th>\n      <th>Clase</th>\n    </tr>\n    <tr>\n      <th>dataFrameIndex</th>\n      <th></th>\n      <th></th>\n      <th></th>\n      <th></th>\n    </tr>\n  </thead>\n  <tbody>\n    <tr>\n      <th>0</th>\n      <td>Gallina</td>\n      <td>1</td>\n      <td>A</td>\n      <td>Aves</td>\n    </tr>\n    <tr>\n      <th>1</th>\n      <td>Perro</td>\n      <td>2</td>\n      <td>A</td>\n      <td>Mamifero</td>\n    </tr>\n    <tr>\n      <th>2</th>\n      <td>Tortuga</td>\n      <td>3</td>\n      <td>B</td>\n      <td>Reptiles</td>\n    </tr>\n    <tr>\n      <th>3</th>\n      <td>Caballo</td>\n      <td>4</td>\n      <td>C</td>\n      <td>Mamifero</td>\n    </tr>\n    <tr>\n      <th>4</th>\n      <td>Gato</td>\n      <td>5</td>\n      <td>B</td>\n      <td>Mamifero</td>\n    </tr>\n  </tbody>\n</table>\n</div>", 
                        "text/plain": "DataFramColumns Animales  Cantidad Granja     Clase\ndataFrameIndex                                     \n0                Gallina         1      A      Aves\n1                  Perro         2      A  Mamifero\n2                Tortuga         3      B  Reptiles\n3                Caballo         4      C  Mamifero\n4                   Gato         5      B  Mamifero"
                    }, 
                    "output_type": "execute_result"
                }
            ], 
            "source": "dfDic.index.name = \"dataFrameIndex\"\ndfDic"
        }, 
        {
            "execution_count": 39, 
            "cell_type": "code", 
            "metadata": {}, 
            "outputs": [
                {
                    "execution_count": 39, 
                    "metadata": {}, 
                    "data": {
                        "text/html": "<div>\n<style scoped>\n    .dataframe tbody tr th:only-of-type {\n        vertical-align: middle;\n    }\n\n    .dataframe tbody tr th {\n        vertical-align: top;\n    }\n\n    .dataframe thead th {\n        text-align: right;\n    }\n</style>\n<table border=\"1\" class=\"dataframe\">\n  <thead>\n    <tr style=\"text-align: right;\">\n      <th>DataFramColumns</th>\n      <th>Animales</th>\n      <th>Cantidad</th>\n      <th>Granja</th>\n    </tr>\n    <tr>\n      <th>dataFrameIndex</th>\n      <th></th>\n      <th></th>\n      <th></th>\n    </tr>\n  </thead>\n  <tbody>\n    <tr>\n      <th>0</th>\n      <td>Gallina</td>\n      <td>1</td>\n      <td>A</td>\n    </tr>\n    <tr>\n      <th>1</th>\n      <td>Perro</td>\n      <td>2</td>\n      <td>A</td>\n    </tr>\n    <tr>\n      <th>2</th>\n      <td>Tortuga</td>\n      <td>3</td>\n      <td>B</td>\n    </tr>\n    <tr>\n      <th>3</th>\n      <td>Caballo</td>\n      <td>4</td>\n      <td>C</td>\n    </tr>\n    <tr>\n      <th>4</th>\n      <td>Gato</td>\n      <td>5</td>\n      <td>B</td>\n    </tr>\n  </tbody>\n</table>\n</div>", 
                        "text/plain": "DataFramColumns Animales  Cantidad Granja\ndataFrameIndex                           \n0                Gallina         1      A\n1                  Perro         2      A\n2                Tortuga         3      B\n3                Caballo         4      C\n4                   Gato         5      B"
                    }, 
                    "output_type": "execute_result"
                }
            ], 
            "source": "#Para borrar una columna\ndel dfDic[\"Clase\"]\ndfDic"
        }, 
        {
            "execution_count": 40, 
            "cell_type": "code", 
            "metadata": {}, 
            "outputs": [
                {
                    "execution_count": 40, 
                    "metadata": {}, 
                    "data": {
                        "text/plain": "False"
                    }, 
                    "output_type": "execute_result"
                }
            ], 
            "source": "\"Clase\" in dfDic.columns"
        }, 
        {
            "source": "", 
            "cell_type": "markdown", 
            "metadata": {}
        }
    ], 
    "metadata": {
        "kernelspec": {
            "display_name": "Python 3.5", 
            "name": "python3", 
            "language": "python"
        }, 
        "language_info": {
            "mimetype": "text/x-python", 
            "nbconvert_exporter": "python", 
            "version": "3.5.5", 
            "name": "python", 
            "file_extension": ".py", 
            "pygments_lexer": "ipython3", 
            "codemirror_mode": {
                "version": 3, 
                "name": "ipython"
            }
        }
    }, 
    "nbformat": 4
}